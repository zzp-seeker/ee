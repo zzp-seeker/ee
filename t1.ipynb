{
  "nbformat": 4,
  "nbformat_minor": 0,
  "metadata": {
    "colab": {
      "name": "t1.ipynb",
      "provenance": [],
      "collapsed_sections": [],
      "toc_visible": true,
      "include_colab_link": true
    },
    "kernelspec": {
      "name": "python3",
      "display_name": "Python 3"
    },
    "accelerator": "GPU"
  },
  "cells": [
    {
      "cell_type": "markdown",
      "metadata": {
        "id": "view-in-github",
        "colab_type": "text"
      },
      "source": [
        "<a href=\"https://colab.research.google.com/github/zzp-seeker/ee/blob/master/t1.ipynb\" target=\"_parent\"><img src=\"https://colab.research.google.com/assets/colab-badge.svg\" alt=\"Open In Colab\"/></a>"
      ]
    },
    {
      "cell_type": "markdown",
      "metadata": {
        "id": "H0eP3e_PjUBJ"
      },
      "source": [
        "# COMP5318 Assignment 2\n",
        "*Make sure you change the file name with your unikey*"
      ]
    },
    {
      "cell_type": "markdown",
      "metadata": {
        "id": "uHOuqG7PjhMp"
      },
      "source": [
        "# 1. Data set up\n"
      ]
    },
    {
      "cell_type": "markdown",
      "metadata": {
        "id": "u8BNaD9dkIVa"
      },
      "source": [
        "## 1.1 Load Data\n",
        "\n",
        "Please upload both datasets (any file format is ok) to your google drive, and load the datasets through google drive file id in your code. If you want to use Jupyter, please submit all the dataset in an additional zip file.\n",
        "\n",
        "\n"
      ]
    },
    {
      "cell_type": "code",
      "metadata": {
        "id": "PjVkg2z0iZh3",
        "colab": {
          "base_uri": "https://localhost:8080/"
        },
        "outputId": "9d946e0d-7fea-4aa1-8fd8-e324e73e50b1"
      },
      "source": [
        "# 加载数据\n",
        "!gdown --id '1m26TV-Rp3H3RamSQ_2DzR_GRFDUMD-RW' --output Datasets.zip\n",
        "!unzip Datasets.zip\n",
        "!ls\n",
        "import shutil,os\n",
        "macosx_path='/content/__MACOSX'\n",
        "if os.path.exists(macosx_path):\n",
        "    shutil.rmtree(macosx_path)"
      ],
      "execution_count": null,
      "outputs": [
        {
          "output_type": "stream",
          "text": [
            "Downloading...\n",
            "From: https://drive.google.com/uc?id=1m26TV-Rp3H3RamSQ_2DzR_GRFDUMD-RW\n",
            "To: /content/Datasets.zip\n",
            "20.5MB [00:00, 125MB/s] \n",
            "Archive:  Datasets.zip\n",
            "replace Datasets/amazon_book.review? [y]es, [n]o, [A]ll, [N]one, [r]ename: N\n",
            "  inflating: __MACOSX/Datasets/._amazon_book.review  \n",
            "  inflating: __MACOSX/Datasets/._CroppedYale  \n",
            "  inflating: __MACOSX/Datasets/._.DS_Store  \n",
            "  inflating: __MACOSX/Datasets/CroppedYale/._.DS_Store  \n",
            "  inflating: __MACOSX/Datasets/CroppedYale/._yaleB02  \n",
            "  inflating: __MACOSX/Datasets/CroppedYale/._yaleB05  \n",
            "  inflating: __MACOSX/Datasets/CroppedYale/._yaleB04  \n",
            "  inflating: __MACOSX/Datasets/CroppedYale/._yaleB03  \n",
            "  inflating: __MACOSX/Datasets/CroppedYale/._yaleB10  \n",
            "  inflating: __MACOSX/Datasets/CroppedYale/._yaleB08  \n",
            "  inflating: __MACOSX/Datasets/CroppedYale/._yaleB06  \n",
            "  inflating: __MACOSX/Datasets/CroppedYale/._yaleB01  \n",
            "  inflating: __MACOSX/Datasets/CroppedYale/._yaleB07  \n",
            "  inflating: __MACOSX/Datasets/CroppedYale/._yaleB09  \n",
            "  inflating: __MACOSX/Datasets/CroppedYale/yaleB02/._yaleB02_P00A-035E+15.pgm  \n",
            "  inflating: __MACOSX/Datasets/CroppedYale/yaleB02/._yaleB02_P00A-025E+00.pgm  \n",
            "  inflating: __MACOSX/Datasets/CroppedYale/yaleB02/._yaleB02_P00A+085E+20.pgm  \n",
            "  inflating: __MACOSX/Datasets/CroppedYale/yaleB02/._yaleB02_P00A-110E+15.pgm  \n",
            "  inflating: __MACOSX/Datasets/CroppedYale/yaleB02/._yaleB02_P00A+020E+10.pgm  \n",
            "  inflating: __MACOSX/Datasets/CroppedYale/yaleB02/._yaleB02_P00A+060E-20.pgm  \n",
            "  inflating: __MACOSX/Datasets/CroppedYale/yaleB02/._yaleB02_P00A+070E-35.pgm  \n",
            "  inflating: __MACOSX/Datasets/CroppedYale/yaleB02/._yaleB02_P00A-095E+00.pgm  \n",
            "  inflating: __MACOSX/Datasets/CroppedYale/yaleB02/._yaleB02_P00A-070E+00.pgm  \n",
            "  inflating: __MACOSX/Datasets/CroppedYale/yaleB02/._yaleB02_P00A+085E-20.pgm  \n",
            "  inflating: __MACOSX/Datasets/CroppedYale/yaleB02/._yaleB02_P00A+000E+90.pgm  \n",
            "  inflating: __MACOSX/Datasets/CroppedYale/yaleB02/._yaleB02_P00A-050E-40.pgm  \n",
            "  inflating: __MACOSX/Datasets/CroppedYale/yaleB02/._yaleB02_P00A+060E+20.pgm  \n",
            "  inflating: __MACOSX/Datasets/CroppedYale/yaleB02/._yaleB02_P00A+110E-20.pgm  \n",
            "  inflating: __MACOSX/Datasets/CroppedYale/yaleB02/._yaleB02_P00A+000E+45.pgm  \n",
            "  inflating: __MACOSX/Datasets/CroppedYale/yaleB02/._yaleB02_P00A+020E-10.pgm  \n",
            "  inflating: __MACOSX/Datasets/CroppedYale/yaleB02/._yaleB02_P00.info  \n",
            "  inflating: __MACOSX/Datasets/CroppedYale/yaleB02/._yaleB02_P00A+035E-20.pgm  \n",
            "  inflating: __MACOSX/Datasets/CroppedYale/yaleB02/._yaleB02_P00A-010E+00.pgm  \n",
            "  inflating: __MACOSX/Datasets/CroppedYale/yaleB02/._yaleB02_P00A+110E+40.pgm  \n",
            "  inflating: __MACOSX/Datasets/CroppedYale/yaleB02/._yaleB02_P00A+035E+40.pgm  \n",
            "  inflating: __MACOSX/Datasets/CroppedYale/yaleB02/._yaleB02_P00_Ambient.pgm  \n",
            "  inflating: __MACOSX/Datasets/CroppedYale/yaleB02/._yaleB02_P00A-020E-40.pgm  \n",
            "  inflating: __MACOSX/Datasets/CroppedYale/yaleB02/._yaleB02_P00A+050E+00.pgm  \n",
            "  inflating: __MACOSX/Datasets/CroppedYale/yaleB02/._yaleB02_P00A+070E+45.pgm  \n",
            "  inflating: __MACOSX/Datasets/CroppedYale/yaleB02/._yaleB02_P00A+000E+20.pgm  \n",
            "  inflating: __MACOSX/Datasets/CroppedYale/yaleB02/._yaleB02_P00A+005E+10.pgm  \n",
            "  inflating: __MACOSX/Datasets/CroppedYale/yaleB02/._yaleB02_P00A-110E+65.pgm  \n",
            "  inflating: __MACOSX/Datasets/CroppedYale/yaleB02/._yaleB02_P00A+120E+00.pgm  \n",
            "  inflating: __MACOSX/Datasets/CroppedYale/yaleB02/._yaleB02_P00A-035E+65.pgm  \n",
            "  inflating: __MACOSX/Datasets/CroppedYale/yaleB02/._yaleB02_P00A-015E+20.pgm  \n",
            "  inflating: __MACOSX/Datasets/CroppedYale/yaleB02/._yaleB02_P00A+010E-20.pgm  \n",
            "  inflating: __MACOSX/Datasets/CroppedYale/yaleB02/._yaleB02_P00A+000E-20.pgm  \n",
            "  inflating: __MACOSX/Datasets/CroppedYale/yaleB02/._yaleB02_P00A+000E-35.pgm  \n",
            "  inflating: __MACOSX/Datasets/CroppedYale/yaleB02/._yaleB02_P00A+005E-10.pgm  \n",
            "  inflating: __MACOSX/Datasets/CroppedYale/yaleB02/._yaleB02_P00A-130E+20.pgm  \n",
            "  inflating: __MACOSX/Datasets/CroppedYale/yaleB02/._WS_FTP.LOG  \n",
            "  inflating: __MACOSX/Datasets/CroppedYale/yaleB02/._yaleB02_P00A-005E+10.pgm  \n",
            "  inflating: __MACOSX/Datasets/CroppedYale/yaleB02/._yaleB02_P00A-070E+45.pgm  \n",
            "  inflating: __MACOSX/Datasets/CroppedYale/yaleB02/._yaleB02_P00A-035E+40.pgm  \n",
            "  inflating: __MACOSX/Datasets/CroppedYale/yaleB02/._yaleB02_P00A+020E-40.pgm  \n",
            "  inflating: __MACOSX/Datasets/CroppedYale/yaleB02/._yaleB02_P00A-050E+00.pgm  \n",
            "  inflating: __MACOSX/Datasets/CroppedYale/yaleB02/._yaleB02_P00A+000E+00.pgm  \n",
            "  inflating: __MACOSX/Datasets/CroppedYale/yaleB02/._yaleB02_P00A+010E+00.pgm  \n",
            "  inflating: __MACOSX/Datasets/CroppedYale/yaleB02/._yaleB02_P00A-110E+40.pgm  \n",
            "  inflating: __MACOSX/Datasets/CroppedYale/yaleB02/._yaleB02_P00A-005E-10.pgm  \n",
            "  inflating: __MACOSX/Datasets/CroppedYale/yaleB02/._yaleB02_P00A+130E+20.pgm  \n",
            "  inflating: __MACOSX/Datasets/CroppedYale/yaleB02/._yaleB02_P00A+015E+20.pgm  \n",
            "  inflating: __MACOSX/Datasets/CroppedYale/yaleB02/._yaleB02_P00A-010E-20.pgm  \n",
            "  inflating: __MACOSX/Datasets/CroppedYale/yaleB02/._yaleB02_P00A-120E+00.pgm  \n",
            "  inflating: __MACOSX/Datasets/CroppedYale/yaleB02/._yaleB02_P00A+035E+65.pgm  \n",
            "  inflating: __MACOSX/Datasets/CroppedYale/yaleB02/._yaleB02_P00A+110E+65.pgm  \n",
            "  inflating: __MACOSX/Datasets/CroppedYale/yaleB02/._yaleB02_P00A-070E-35.pgm  \n",
            "  inflating: __MACOSX/Datasets/CroppedYale/yaleB02/._yaleB02_P00A+095E+00.pgm  \n",
            "  inflating: __MACOSX/Datasets/CroppedYale/yaleB02/._yaleB02_P00A-020E+10.pgm  \n",
            "  inflating: __MACOSX/Datasets/CroppedYale/yaleB02/._yaleB02_P00A-060E-20.pgm  \n",
            "  inflating: __MACOSX/Datasets/CroppedYale/yaleB02/._yaleB02_P00A-085E+20.pgm  \n",
            "  inflating: __MACOSX/Datasets/CroppedYale/yaleB02/._yaleB02_P00A+025E+00.pgm  \n",
            "  inflating: __MACOSX/Datasets/CroppedYale/yaleB02/._yaleB02_P00A+110E+15.pgm  \n",
            "  inflating: __MACOSX/Datasets/CroppedYale/yaleB02/._yaleB02_P00A+035E+15.pgm  \n",
            "  inflating: __MACOSX/Datasets/CroppedYale/yaleB02/._yaleB02_P00A-035E-20.pgm  \n",
            "  inflating: __MACOSX/Datasets/CroppedYale/yaleB02/._yaleB02_P00A-110E-20.pgm  \n",
            "  inflating: __MACOSX/Datasets/CroppedYale/yaleB02/._yaleB02_P00A-060E+20.pgm  \n",
            "  inflating: __MACOSX/Datasets/CroppedYale/yaleB02/._yaleB02_P00A-020E-10.pgm  \n",
            "  inflating: __MACOSX/Datasets/CroppedYale/yaleB02/._yaleB02_P00A-085E-20.pgm  \n",
            "  inflating: __MACOSX/Datasets/CroppedYale/yaleB02/._yaleB02_P00A+050E-40.pgm  \n",
            "  inflating: __MACOSX/Datasets/CroppedYale/yaleB02/._yaleB02_P00A+070E+00.pgm  \n",
            "  inflating: __MACOSX/Datasets/CroppedYale/yaleB05/._yaleB05_P00A-110E-20.pgm  \n",
            "  inflating: __MACOSX/Datasets/CroppedYale/yaleB05/._yaleB05_P00A-060E+20.pgm  \n",
            "  inflating: __MACOSX/Datasets/CroppedYale/yaleB05/._yaleB05_P00A-020E-10.pgm  \n",
            "  inflating: __MACOSX/Datasets/CroppedYale/yaleB05/._yaleB05_P00A-035E-20.pgm  \n",
            "  inflating: __MACOSX/Datasets/CroppedYale/yaleB05/._yaleB05_P00A+070E+00.pgm  \n",
            "  inflating: __MACOSX/Datasets/CroppedYale/yaleB05/._yaleB05_P00A-085E-20.pgm  \n",
            "  inflating: __MACOSX/Datasets/CroppedYale/yaleB05/._yaleB05_P00A+050E-40.pgm  \n",
            "  inflating: __MACOSX/Datasets/CroppedYale/yaleB05/._yaleB05_P00A-020E+10.pgm  \n",
            "  inflating: __MACOSX/Datasets/CroppedYale/yaleB05/._yaleB05_P00A-060E-20.pgm  \n",
            "  inflating: __MACOSX/Datasets/CroppedYale/yaleB05/._yaleB05_P00A-070E-35.pgm  \n",
            "  inflating: __MACOSX/Datasets/CroppedYale/yaleB05/._yaleB05_P00A+095E+00.pgm  \n",
            "  inflating: __MACOSX/Datasets/CroppedYale/yaleB05/._yaleB05_P00A+035E+15.pgm  \n",
            "  inflating: __MACOSX/Datasets/CroppedYale/yaleB05/._yaleB05_P00A-085E+20.pgm  \n",
            "  inflating: __MACOSX/Datasets/CroppedYale/yaleB05/._yaleB05_P00A+025E+00.pgm  \n",
            "  inflating: __MACOSX/Datasets/CroppedYale/yaleB05/._yaleB05_P00A+110E+15.pgm  \n",
            "  inflating: __MACOSX/Datasets/CroppedYale/yaleB05/._yaleB05_P00A+015E+20.pgm  \n",
            "  inflating: __MACOSX/Datasets/CroppedYale/yaleB05/._yaleB05_P00A-010E-20.pgm  \n",
            "  inflating: __MACOSX/Datasets/CroppedYale/yaleB05/._yaleB05_P00A-005E-10.pgm  \n",
            "  inflating: __MACOSX/Datasets/CroppedYale/yaleB05/._yaleB05_P00A+130E+20.pgm  \n",
            "  inflating: __MACOSX/Datasets/CroppedYale/yaleB05/._yaleB05_P00A+110E+65.pgm  \n",
            "  inflating: __MACOSX/Datasets/CroppedYale/yaleB05/._yaleB05_P00A-120E+00.pgm  \n",
            "  inflating: __MACOSX/Datasets/CroppedYale/yaleB05/._yaleB05_P00.info  \n",
            "  inflating: __MACOSX/Datasets/CroppedYale/yaleB05/._yaleB05_P00A+035E+65.pgm  \n",
            "  inflating: __MACOSX/Datasets/CroppedYale/yaleB05/._yaleB05_P00A-070E+45.pgm  \n",
            "  inflating: __MACOSX/Datasets/CroppedYale/yaleB05/._yaleB05_P00A-005E+10.pgm  \n",
            "  inflating: __MACOSX/Datasets/CroppedYale/yaleB05/._yaleB05_P00_Ambient.pgm  \n",
            "  inflating: __MACOSX/Datasets/CroppedYale/yaleB05/._yaleB05_P00A+010E+00.pgm  \n",
            "  inflating: __MACOSX/Datasets/CroppedYale/yaleB05/._yaleB05_P00A+000E+00.pgm  \n",
            "  inflating: __MACOSX/Datasets/CroppedYale/yaleB05/._yaleB05_P00A-110E+40.pgm  \n",
            "  inflating: __MACOSX/Datasets/CroppedYale/yaleB05/._yaleB05_P00A-035E+40.pgm  \n",
            "  inflating: __MACOSX/Datasets/CroppedYale/yaleB05/._yaleB05_P00A+020E-40.pgm  \n",
            "  inflating: __MACOSX/Datasets/CroppedYale/yaleB05/._yaleB05_P00A-050E+00.pgm  \n",
            "  inflating: __MACOSX/Datasets/CroppedYale/yaleB05/._yaleB05_P00A+120E+00.pgm  \n",
            "  inflating: __MACOSX/Datasets/CroppedYale/yaleB05/._WS_FTP.LOG  \n",
            "  inflating: __MACOSX/Datasets/CroppedYale/yaleB05/._yaleB05_P00A-035E+65.pgm  \n",
            "  inflating: __MACOSX/Datasets/CroppedYale/yaleB05/._yaleB05_P00A-110E+65.pgm  \n",
            "  inflating: __MACOSX/Datasets/CroppedYale/yaleB05/._yaleB05_P00A+000E-35.pgm  \n",
            "  inflating: __MACOSX/Datasets/CroppedYale/yaleB05/._yaleB05_P00A+005E-10.pgm  \n",
            "  inflating: __MACOSX/Datasets/CroppedYale/yaleB05/._yaleB05_P00A-130E+20.pgm  \n",
            "  inflating: __MACOSX/Datasets/CroppedYale/yaleB05/._yaleB05_P00A-015E+20.pgm  \n",
            "  inflating: __MACOSX/Datasets/CroppedYale/yaleB05/._yaleB05_P00A+000E-20.pgm  \n",
            "  inflating: __MACOSX/Datasets/CroppedYale/yaleB05/._yaleB05_P00A+010E-20.pgm  \n",
            "  inflating: __MACOSX/Datasets/CroppedYale/yaleB05/._yaleB05_P00A+035E+40.pgm  \n",
            "  inflating: __MACOSX/Datasets/CroppedYale/yaleB05/._yaleB05_P00A-020E-40.pgm  \n",
            "  inflating: __MACOSX/Datasets/CroppedYale/yaleB05/._yaleB05_P00A+050E+00.pgm  \n",
            "  inflating: __MACOSX/Datasets/CroppedYale/yaleB05/._yaleB05_P00A-010E+00.pgm  \n",
            "  inflating: __MACOSX/Datasets/CroppedYale/yaleB05/._yaleB05_P00A+110E+40.pgm  \n",
            "  inflating: __MACOSX/Datasets/CroppedYale/yaleB05/._yaleB05_P00A+005E+10.pgm  \n",
            "  inflating: __MACOSX/Datasets/CroppedYale/yaleB05/._yaleB05_P00A+070E+45.pgm  \n",
            "  inflating: __MACOSX/Datasets/CroppedYale/yaleB05/._yaleB05_P00A+000E+20.pgm  \n",
            "  inflating: __MACOSX/Datasets/CroppedYale/yaleB05/._yaleB05_P00A+085E-20.pgm  \n",
            "  inflating: __MACOSX/Datasets/CroppedYale/yaleB05/._yaleB05_P00A+000E+90.pgm  \n",
            "  inflating: __MACOSX/Datasets/CroppedYale/yaleB05/._yaleB05_P00A-050E-40.pgm  \n",
            "  inflating: __MACOSX/Datasets/CroppedYale/yaleB05/._yaleB05_P00A-070E+00.pgm  \n",
            "  inflating: __MACOSX/Datasets/CroppedYale/yaleB05/._yaleB05_P00A+035E-20.pgm  \n",
            "  inflating: __MACOSX/Datasets/CroppedYale/yaleB05/._yaleB05_P00A+060E+20.pgm  \n",
            "  inflating: __MACOSX/Datasets/CroppedYale/yaleB05/._yaleB05_P00A+110E-20.pgm  \n",
            "  inflating: __MACOSX/Datasets/CroppedYale/yaleB05/._yaleB05_P00A+000E+45.pgm  \n",
            "  inflating: __MACOSX/Datasets/CroppedYale/yaleB05/._yaleB05_P00A+020E-10.pgm  \n",
            "  inflating: __MACOSX/Datasets/CroppedYale/yaleB05/._yaleB05_P00A-025E+00.pgm  \n",
            "  inflating: __MACOSX/Datasets/CroppedYale/yaleB05/._yaleB05_P00A+085E+20.pgm  \n",
            "  inflating: __MACOSX/Datasets/CroppedYale/yaleB05/._yaleB05_P00A-110E+15.pgm  \n",
            "  inflating: __MACOSX/Datasets/CroppedYale/yaleB05/._yaleB05_P00A-035E+15.pgm  \n",
            "  inflating: __MACOSX/Datasets/CroppedYale/yaleB05/._yaleB05_P00A+070E-35.pgm  \n",
            "  inflating: __MACOSX/Datasets/CroppedYale/yaleB05/._yaleB05_P00A-095E+00.pgm  \n",
            "  inflating: __MACOSX/Datasets/CroppedYale/yaleB05/._yaleB05_P00A+020E+10.pgm  \n",
            "  inflating: __MACOSX/Datasets/CroppedYale/yaleB05/._yaleB05_P00A+060E-20.pgm  \n",
            "  inflating: __MACOSX/Datasets/CroppedYale/yaleB04/._yaleB04_P00A+130E+20.pgm  \n",
            "  inflating: __MACOSX/Datasets/CroppedYale/yaleB04/._yaleB04_P00A-005E-10.pgm  \n",
            "  inflating: __MACOSX/Datasets/CroppedYale/yaleB04/._yaleB04_P00A-010E-20.pgm  \n",
            "  inflating: __MACOSX/Datasets/CroppedYale/yaleB04/._yaleB04_P00A+015E+20.pgm  \n",
            "  inflating: __MACOSX/Datasets/CroppedYale/yaleB04/._yaleB04_P00_Ambient.pgm  \n",
            "  inflating: __MACOSX/Datasets/CroppedYale/yaleB04/._yaleB04_P00A+035E+65.pgm  \n",
            "  inflating: __MACOSX/Datasets/CroppedYale/yaleB04/._yaleB04_P00A-120E+00.pgm  \n",
            "  inflating: __MACOSX/Datasets/CroppedYale/yaleB04/._yaleB04_P00A+110E+65.pgm  \n",
            "  inflating: __MACOSX/Datasets/CroppedYale/yaleB04/._yaleB04_P00A-005E+10.pgm  \n",
            "  inflating: __MACOSX/Datasets/CroppedYale/yaleB04/._yaleB04_P00A-070E+45.pgm  \n",
            "  inflating: __MACOSX/Datasets/CroppedYale/yaleB04/._yaleB04_P00A-050E+00.pgm  \n",
            "  inflating: __MACOSX/Datasets/CroppedYale/yaleB04/._yaleB04_P00A+020E-40.pgm  \n",
            "  inflating: __MACOSX/Datasets/CroppedYale/yaleB04/._yaleB04_P00A-035E+40.pgm  \n",
            "  inflating: __MACOSX/Datasets/CroppedYale/yaleB04/._yaleB04_P00A-110E+40.pgm  \n",
            "  inflating: __MACOSX/Datasets/CroppedYale/yaleB04/._yaleB04_P00A+000E+00.pgm  \n",
            "  inflating: __MACOSX/Datasets/CroppedYale/yaleB04/._yaleB04_P00A+010E+00.pgm  \n",
            "  inflating: __MACOSX/Datasets/CroppedYale/yaleB04/._yaleB04_P00A-035E-20.pgm  \n",
            "  inflating: __MACOSX/Datasets/CroppedYale/yaleB04/._yaleB04_P00A-020E-10.pgm  \n",
            "  inflating: __MACOSX/Datasets/CroppedYale/yaleB04/._yaleB04_P00A-060E+20.pgm  \n",
            "  inflating: __MACOSX/Datasets/CroppedYale/yaleB04/._yaleB04_P00A-110E-20.pgm  \n",
            "  inflating: __MACOSX/Datasets/CroppedYale/yaleB04/._yaleB04_P00A+050E-40.pgm  \n",
            "  inflating: __MACOSX/Datasets/CroppedYale/yaleB04/._yaleB04_P00A-085E-20.pgm  \n",
            "  inflating: __MACOSX/Datasets/CroppedYale/yaleB04/._yaleB04_P00A+070E+00.pgm  \n",
            "  inflating: __MACOSX/Datasets/CroppedYale/yaleB04/._yaleB04_P00.info  \n",
            "  inflating: __MACOSX/Datasets/CroppedYale/yaleB04/._yaleB04_P00A+095E+00.pgm  \n",
            "  inflating: __MACOSX/Datasets/CroppedYale/yaleB04/._yaleB04_P00A-070E-35.pgm  \n",
            "  inflating: __MACOSX/Datasets/CroppedYale/yaleB04/._yaleB04_P00A-060E-20.pgm  \n",
            "  inflating: __MACOSX/Datasets/CroppedYale/yaleB04/._yaleB04_P00A-020E+10.pgm  \n",
            "  inflating: __MACOSX/Datasets/CroppedYale/yaleB04/._yaleB04_P00A+110E+15.pgm  \n",
            "  inflating: __MACOSX/Datasets/CroppedYale/yaleB04/._yaleB04_P00A-085E+20.pgm  \n",
            "  inflating: __MACOSX/Datasets/CroppedYale/yaleB04/._yaleB04_P00A+025E+00.pgm  \n",
            "  inflating: __MACOSX/Datasets/CroppedYale/yaleB04/._yaleB04_P00A+035E+15.pgm  \n",
            "  inflating: __MACOSX/Datasets/CroppedYale/yaleB04/._yaleB04_P00A-070E+00.pgm  \n",
            "  inflating: __MACOSX/Datasets/CroppedYale/yaleB04/._WS_FTP.LOG  \n",
            "  inflating: __MACOSX/Datasets/CroppedYale/yaleB04/._yaleB04_P00A-050E-40.pgm  \n",
            "  inflating: __MACOSX/Datasets/CroppedYale/yaleB04/._yaleB04_P00A+000E+90.pgm  \n",
            "  inflating: __MACOSX/Datasets/CroppedYale/yaleB04/._yaleB04_P00A+085E-20.pgm  \n",
            "  inflating: __MACOSX/Datasets/CroppedYale/yaleB04/._yaleB04_P00A+020E-10.pgm  \n",
            "  inflating: __MACOSX/Datasets/CroppedYale/yaleB04/._yaleB04_P00A+000E+45.pgm  \n",
            "  inflating: __MACOSX/Datasets/CroppedYale/yaleB04/._yaleB04_P00A+110E-20.pgm  \n",
            "  inflating: __MACOSX/Datasets/CroppedYale/yaleB04/._yaleB04_P00A+060E+20.pgm  \n",
            "  inflating: __MACOSX/Datasets/CroppedYale/yaleB04/._yaleB04_P00A+035E-20.pgm  \n",
            "  inflating: __MACOSX/Datasets/CroppedYale/yaleB04/._yaleB04_P00A-035E+15.pgm  \n",
            "  inflating: __MACOSX/Datasets/CroppedYale/yaleB04/._yaleB04_P00A-110E+15.pgm  \n",
            "  inflating: __MACOSX/Datasets/CroppedYale/yaleB04/._yaleB04_P00A-025E+00.pgm  \n",
            "  inflating: __MACOSX/Datasets/CroppedYale/yaleB04/._yaleB04_P00A+085E+20.pgm  \n",
            "  inflating: __MACOSX/Datasets/CroppedYale/yaleB04/._yaleB04_P00A+060E-20.pgm  \n",
            "  inflating: __MACOSX/Datasets/CroppedYale/yaleB04/._yaleB04_P00A+020E+10.pgm  \n",
            "  inflating: __MACOSX/Datasets/CroppedYale/yaleB04/._yaleB04_P00A-095E+00.pgm  \n",
            "  inflating: __MACOSX/Datasets/CroppedYale/yaleB04/._yaleB04_P00A+070E-35.pgm  \n",
            "  inflating: __MACOSX/Datasets/CroppedYale/yaleB04/._yaleB04_P00A-110E+65.pgm  \n",
            "  inflating: __MACOSX/Datasets/CroppedYale/yaleB04/._yaleB04_P00A-035E+65.pgm  \n",
            "  inflating: __MACOSX/Datasets/CroppedYale/yaleB04/._yaleB04_P00A+120E+00.pgm  \n",
            "  inflating: __MACOSX/Datasets/CroppedYale/yaleB04/._yaleB04_P00A+010E-20.pgm  \n",
            "  inflating: __MACOSX/Datasets/CroppedYale/yaleB04/._yaleB04_P00A+000E-20.pgm  \n",
            "  inflating: __MACOSX/Datasets/CroppedYale/yaleB04/._yaleB04_P00A-015E+20.pgm  \n",
            "  inflating: __MACOSX/Datasets/CroppedYale/yaleB04/._yaleB04_P00A-130E+20.pgm  \n",
            "  inflating: __MACOSX/Datasets/CroppedYale/yaleB04/._yaleB04_P00A+005E-10.pgm  \n",
            "  inflating: __MACOSX/Datasets/CroppedYale/yaleB04/._yaleB04_P00A+000E-35.pgm  \n",
            "  inflating: __MACOSX/Datasets/CroppedYale/yaleB04/._yaleB04_P00A+110E+40.pgm  \n",
            "  inflating: __MACOSX/Datasets/CroppedYale/yaleB04/._yaleB04_P00A-010E+00.pgm  \n",
            "  inflating: __MACOSX/Datasets/CroppedYale/yaleB04/._yaleB04_P00A+050E+00.pgm  \n",
            "  inflating: __MACOSX/Datasets/CroppedYale/yaleB04/._yaleB04_P00A-020E-40.pgm  \n",
            "  inflating: __MACOSX/Datasets/CroppedYale/yaleB04/._yaleB04_P00A+035E+40.pgm  \n",
            "  inflating: __MACOSX/Datasets/CroppedYale/yaleB04/._yaleB04_P00A+000E+20.pgm  \n",
            "  inflating: __MACOSX/Datasets/CroppedYale/yaleB04/._yaleB04_P00A+070E+45.pgm  \n",
            "  inflating: __MACOSX/Datasets/CroppedYale/yaleB04/._yaleB04_P00A+005E+10.pgm  \n",
            "  inflating: __MACOSX/Datasets/CroppedYale/yaleB03/._yaleB03_P00A+050E+00.pgm  \n",
            "  inflating: __MACOSX/Datasets/CroppedYale/yaleB03/._yaleB03_P00A-020E-40.pgm  \n",
            "  inflating: __MACOSX/Datasets/CroppedYale/yaleB03/._yaleB03_P00A+035E+40.pgm  \n",
            "  inflating: __MACOSX/Datasets/CroppedYale/yaleB03/._yaleB03_P00A+110E+40.pgm  \n",
            "  inflating: __MACOSX/Datasets/CroppedYale/yaleB03/._yaleB03_P00A-010E+00.pgm  \n",
            "  inflating: __MACOSX/Datasets/CroppedYale/yaleB03/._yaleB03_P00A+005E+10.pgm  \n",
            "  inflating: __MACOSX/Datasets/CroppedYale/yaleB03/._yaleB03_P00A+000E+20.pgm  \n",
            "  inflating: __MACOSX/Datasets/CroppedYale/yaleB03/._yaleB03_P00A+070E+45.pgm  \n",
            "  inflating: __MACOSX/Datasets/CroppedYale/yaleB03/._yaleB03_P00A-035E+65.pgm  \n",
            "  inflating: __MACOSX/Datasets/CroppedYale/yaleB03/._yaleB03_P00A+120E+00.pgm  \n",
            "  inflating: __MACOSX/Datasets/CroppedYale/yaleB03/._yaleB03_P00A-110E+65.pgm  \n",
            "  inflating: __MACOSX/Datasets/CroppedYale/yaleB03/._yaleB03_P00_Ambient.pgm  \n",
            "  inflating: __MACOSX/Datasets/CroppedYale/yaleB03/._yaleB03_P00A-130E+20.pgm  \n",
            "  inflating: __MACOSX/Datasets/CroppedYale/yaleB03/._yaleB03_P00A+005E-10.pgm  \n",
            "  inflating: __MACOSX/Datasets/CroppedYale/yaleB03/._yaleB03_P00A+000E-35.pgm  \n",
            "  inflating: __MACOSX/Datasets/CroppedYale/yaleB03/._yaleB03_P00.info  \n",
            "  inflating: __MACOSX/Datasets/CroppedYale/yaleB03/._yaleB03_P00A+000E-20.pgm  \n",
            "  inflating: __MACOSX/Datasets/CroppedYale/yaleB03/._yaleB03_P00A+010E-20.pgm  \n",
            "  inflating: __MACOSX/Datasets/CroppedYale/yaleB03/._yaleB03_P00A-015E+20.pgm  \n",
            "  inflating: __MACOSX/Datasets/CroppedYale/yaleB03/._yaleB03_P00A-110E+15.pgm  \n",
            "  inflating: __MACOSX/Datasets/CroppedYale/yaleB03/._yaleB03_P00A-025E+00.pgm  \n",
            "  inflating: __MACOSX/Datasets/CroppedYale/yaleB03/._yaleB03_P00A+085E+20.pgm  \n",
            "  inflating: __MACOSX/Datasets/CroppedYale/yaleB03/._yaleB03_P00A-035E+15.pgm  \n",
            "  inflating: __MACOSX/Datasets/CroppedYale/yaleB03/._yaleB03_P00A-095E+00.pgm  \n",
            "  inflating: __MACOSX/Datasets/CroppedYale/yaleB03/._yaleB03_P00A+070E-35.pgm  \n",
            "  inflating: __MACOSX/Datasets/CroppedYale/yaleB03/._yaleB03_P00A+060E-20.pgm  \n",
            "  inflating: __MACOSX/Datasets/CroppedYale/yaleB03/._yaleB03_P00A+020E+10.pgm  \n",
            "  inflating: __MACOSX/Datasets/CroppedYale/yaleB03/._yaleB03_P00A-050E-40.pgm  \n",
            "  inflating: __MACOSX/Datasets/CroppedYale/yaleB03/._yaleB03_P00A+000E+90.pgm  \n",
            "  inflating: __MACOSX/Datasets/CroppedYale/yaleB03/._yaleB03_P00A+085E-20.pgm  \n",
            "  inflating: __MACOSX/Datasets/CroppedYale/yaleB03/._yaleB03_P00A-070E+00.pgm  \n",
            "  inflating: __MACOSX/Datasets/CroppedYale/yaleB03/._yaleB03_P00A+035E-20.pgm  \n",
            "  inflating: __MACOSX/Datasets/CroppedYale/yaleB03/._yaleB03_P00A+020E-10.pgm  \n",
            "  inflating: __MACOSX/Datasets/CroppedYale/yaleB03/._yaleB03_P00A+000E+45.pgm  \n",
            "  inflating: __MACOSX/Datasets/CroppedYale/yaleB03/._yaleB03_P00A+110E-20.pgm  \n",
            "  inflating: __MACOSX/Datasets/CroppedYale/yaleB03/._yaleB03_P00A+060E+20.pgm  \n",
            "  inflating: __MACOSX/Datasets/CroppedYale/yaleB03/._yaleB03_P00A-060E-20.pgm  \n",
            "  inflating: __MACOSX/Datasets/CroppedYale/yaleB03/._WS_FTP.LOG  \n",
            "  inflating: __MACOSX/Datasets/CroppedYale/yaleB03/._yaleB03_P00A-020E+10.pgm  \n",
            "  inflating: __MACOSX/Datasets/CroppedYale/yaleB03/._yaleB03_P00A+095E+00.pgm  \n",
            "  inflating: __MACOSX/Datasets/CroppedYale/yaleB03/._yaleB03_P00A-070E-35.pgm  \n",
            "  inflating: __MACOSX/Datasets/CroppedYale/yaleB03/._yaleB03_P00A+035E+15.pgm  \n",
            "  inflating: __MACOSX/Datasets/CroppedYale/yaleB03/._yaleB03_P00A+110E+15.pgm  \n",
            "  inflating: __MACOSX/Datasets/CroppedYale/yaleB03/._yaleB03_P00A-085E+20.pgm  \n",
            "  inflating: __MACOSX/Datasets/CroppedYale/yaleB03/._yaleB03_P00A+025E+00.pgm  \n",
            "  inflating: __MACOSX/Datasets/CroppedYale/yaleB03/._yaleB03_P00A-020E-10.pgm  \n",
            "  inflating: __MACOSX/Datasets/CroppedYale/yaleB03/._yaleB03_P00A-060E+20.pgm  \n",
            "  inflating: __MACOSX/Datasets/CroppedYale/yaleB03/._yaleB03_P00A-110E-20.pgm  \n",
            "  inflating: __MACOSX/Datasets/CroppedYale/yaleB03/._yaleB03_P00A-035E-20.pgm  \n",
            "  inflating: __MACOSX/Datasets/CroppedYale/yaleB03/._yaleB03_P00A+070E+00.pgm  \n",
            "  inflating: __MACOSX/Datasets/CroppedYale/yaleB03/._yaleB03_P00A+050E-40.pgm  \n",
            "  inflating: __MACOSX/Datasets/CroppedYale/yaleB03/._yaleB03_P00A-085E-20.pgm  \n",
            "  inflating: __MACOSX/Datasets/CroppedYale/yaleB03/._yaleB03_P00A-070E+45.pgm  \n",
            "  inflating: __MACOSX/Datasets/CroppedYale/yaleB03/._yaleB03_P00A-005E+10.pgm  \n",
            "  inflating: __MACOSX/Datasets/CroppedYale/yaleB03/._yaleB03_P00A-110E+40.pgm  \n",
            "  inflating: __MACOSX/Datasets/CroppedYale/yaleB03/._yaleB03_P00A+010E+00.pgm  \n",
            "  inflating: __MACOSX/Datasets/CroppedYale/yaleB03/._yaleB03_P00A+000E+00.pgm  \n",
            "  inflating: __MACOSX/Datasets/CroppedYale/yaleB03/._yaleB03_P00A-050E+00.pgm  \n",
            "  inflating: __MACOSX/Datasets/CroppedYale/yaleB03/._yaleB03_P00A+020E-40.pgm  \n",
            "  inflating: __MACOSX/Datasets/CroppedYale/yaleB03/._yaleB03_P00A-035E+40.pgm  \n",
            "  inflating: __MACOSX/Datasets/CroppedYale/yaleB03/._yaleB03_P00A-010E-20.pgm  \n",
            "  inflating: __MACOSX/Datasets/CroppedYale/yaleB03/._yaleB03_P00A+015E+20.pgm  \n",
            "  inflating: __MACOSX/Datasets/CroppedYale/yaleB03/._yaleB03_P00A+130E+20.pgm  \n",
            "  inflating: __MACOSX/Datasets/CroppedYale/yaleB03/._yaleB03_P00A-005E-10.pgm  \n",
            "  inflating: __MACOSX/Datasets/CroppedYale/yaleB03/._yaleB03_P00A+110E+65.pgm  \n",
            "  inflating: __MACOSX/Datasets/CroppedYale/yaleB03/._yaleB03_P00A+035E+65.pgm  \n",
            "  inflating: __MACOSX/Datasets/CroppedYale/yaleB03/._yaleB03_P00A-120E+00.pgm  \n",
            "  inflating: __MACOSX/Datasets/CroppedYale/yaleB10/._yaleB10_P00A+110E+65.pgm  \n",
            "  inflating: __MACOSX/Datasets/CroppedYale/yaleB10/._yaleB10_P00A+035E+65.pgm  \n",
            "  inflating: __MACOSX/Datasets/CroppedYale/yaleB10/._yaleB10_P00A-120E+00.pgm  \n",
            "  inflating: __MACOSX/Datasets/CroppedYale/yaleB10/._yaleB10_P00A-010E-20.pgm  \n",
            "  inflating: __MACOSX/Datasets/CroppedYale/yaleB10/._yaleB10_P00A+015E+20.pgm  \n",
            "  inflating: __MACOSX/Datasets/CroppedYale/yaleB10/._yaleB10_P00A-005E-10.pgm  \n",
            "  inflating: __MACOSX/Datasets/CroppedYale/yaleB10/._yaleB10_P00A+130E+20.pgm  \n",
            "  inflating: __MACOSX/Datasets/CroppedYale/yaleB10/._yaleB10_P00A+010E+00.pgm  \n",
            "  inflating: __MACOSX/Datasets/CroppedYale/yaleB10/._yaleB10_P00A+000E+00.pgm  \n",
            "  inflating: __MACOSX/Datasets/CroppedYale/yaleB10/._yaleB10_P00A-110E+40.pgm  \n",
            "  inflating: __MACOSX/Datasets/CroppedYale/yaleB10/._yaleB10_P00A+020E-40.pgm  \n",
            "  inflating: __MACOSX/Datasets/CroppedYale/yaleB10/._yaleB10_P00A-050E+00.pgm  \n",
            "  inflating: __MACOSX/Datasets/CroppedYale/yaleB10/._yaleB10_P00A-035E+40.pgm  \n",
            "  inflating: __MACOSX/Datasets/CroppedYale/yaleB10/._yaleB10_P00A-070E+45.pgm  \n",
            "  inflating: __MACOSX/Datasets/CroppedYale/yaleB10/._yaleB10_P00A-005E+10.pgm  \n",
            "  inflating: __MACOSX/Datasets/CroppedYale/yaleB10/._yaleB10_P00A+070E+00.pgm  \n",
            "  inflating: __MACOSX/Datasets/CroppedYale/yaleB10/._yaleB10_P00A+050E-40.pgm  \n",
            "  inflating: __MACOSX/Datasets/CroppedYale/yaleB10/._yaleB10_P00A-085E-20.pgm  \n",
            "  inflating: __MACOSX/Datasets/CroppedYale/yaleB10/._yaleB10_P00A-020E-10.pgm  \n",
            "  inflating: __MACOSX/Datasets/CroppedYale/yaleB10/._yaleB10_P00A-060E+20.pgm  \n",
            "  inflating: __MACOSX/Datasets/CroppedYale/yaleB10/._yaleB10_P00A-110E-20.pgm  \n",
            "  inflating: __MACOSX/Datasets/CroppedYale/yaleB10/._yaleB10_P00A-035E-20.pgm  \n",
            "  inflating: __MACOSX/Datasets/CroppedYale/yaleB10/._yaleB10_P00A+035E+15.pgm  \n",
            "  inflating: __MACOSX/Datasets/CroppedYale/yaleB10/._yaleB10_P00A+025E+00.pgm  \n",
            "  inflating: __MACOSX/Datasets/CroppedYale/yaleB10/._yaleB10_P00A-085E+20.pgm  \n",
            "  inflating: __MACOSX/Datasets/CroppedYale/yaleB10/._yaleB10_P00A+110E+15.pgm  \n",
            "  inflating: __MACOSX/Datasets/CroppedYale/yaleB10/._yaleB10_P00A-060E-20.pgm  \n",
            "  inflating: __MACOSX/Datasets/CroppedYale/yaleB10/._yaleB10_P00A-020E+10.pgm  \n",
            "  inflating: __MACOSX/Datasets/CroppedYale/yaleB10/._yaleB10_P00A-070E-35.pgm  \n",
            "  inflating: __MACOSX/Datasets/CroppedYale/yaleB10/._yaleB10_P00A+095E+00.pgm  \n",
            "  inflating: __MACOSX/Datasets/CroppedYale/yaleB10/._yaleB10_P00A+035E-20.pgm  \n",
            "  inflating: __MACOSX/Datasets/CroppedYale/yaleB10/._WS_FTP.LOG  \n",
            "  inflating: __MACOSX/Datasets/CroppedYale/yaleB10/._yaleB10_P00A+020E-10.pgm  \n",
            "  inflating: __MACOSX/Datasets/CroppedYale/yaleB10/._yaleB10_P00A+110E-20.pgm  \n",
            "  inflating: __MACOSX/Datasets/CroppedYale/yaleB10/._yaleB10_P00A+060E+20.pgm  \n",
            "  inflating: __MACOSX/Datasets/CroppedYale/yaleB10/._yaleB10_P00A+000E+45.pgm  \n",
            "  inflating: __MACOSX/Datasets/CroppedYale/yaleB10/._yaleB10_P00A+000E+90.pgm  \n",
            "  inflating: __MACOSX/Datasets/CroppedYale/yaleB10/._yaleB10_P00A-050E-40.pgm  \n",
            "  inflating: __MACOSX/Datasets/CroppedYale/yaleB10/._yaleB10_P00A+085E-20.pgm  \n",
            "  inflating: __MACOSX/Datasets/CroppedYale/yaleB10/._yaleB10_P00A-070E+00.pgm  \n",
            "  inflating: __MACOSX/Datasets/CroppedYale/yaleB10/._yaleB10_P00A+070E-35.pgm  \n",
            "  inflating: __MACOSX/Datasets/CroppedYale/yaleB10/._yaleB10_P00A-095E+00.pgm  \n",
            "  inflating: __MACOSX/Datasets/CroppedYale/yaleB10/._yaleB10_P00A+060E-20.pgm  \n",
            "  inflating: __MACOSX/Datasets/CroppedYale/yaleB10/._yaleB10_P00A+020E+10.pgm  \n",
            "  inflating: __MACOSX/Datasets/CroppedYale/yaleB10/._yaleB10_P00A+085E+20.pgm  \n",
            "  inflating: __MACOSX/Datasets/CroppedYale/yaleB10/._yaleB10_P00A-025E+00.pgm  \n",
            "  inflating: __MACOSX/Datasets/CroppedYale/yaleB10/._yaleB10_P00A-110E+15.pgm  \n",
            "  inflating: __MACOSX/Datasets/CroppedYale/yaleB10/._yaleB10_P00A-035E+15.pgm  \n",
            "  inflating: __MACOSX/Datasets/CroppedYale/yaleB10/._yaleB10_P00A+005E-10.pgm  \n",
            "  inflating: __MACOSX/Datasets/CroppedYale/yaleB10/._yaleB10_P00A-130E+20.pgm  \n",
            "  inflating: __MACOSX/Datasets/CroppedYale/yaleB10/._yaleB10_P00A+000E-35.pgm  \n",
            "  inflating: __MACOSX/Datasets/CroppedYale/yaleB10/._yaleB10_P00A+000E-20.pgm  \n",
            "  inflating: __MACOSX/Datasets/CroppedYale/yaleB10/._yaleB10_P00A+010E-20.pgm  \n",
            "  inflating: __MACOSX/Datasets/CroppedYale/yaleB10/._yaleB10_P00_Ambient.pgm  \n",
            "  inflating: __MACOSX/Datasets/CroppedYale/yaleB10/._yaleB10_P00.info  \n",
            "  inflating: __MACOSX/Datasets/CroppedYale/yaleB10/._yaleB10_P00A-015E+20.pgm  \n",
            "  inflating: __MACOSX/Datasets/CroppedYale/yaleB10/._yaleB10_P00A-035E+65.pgm  \n",
            "  inflating: __MACOSX/Datasets/CroppedYale/yaleB10/._yaleB10_P00A+120E+00.pgm  \n",
            "  inflating: __MACOSX/Datasets/CroppedYale/yaleB10/._yaleB10_P00A-110E+65.pgm  \n",
            "  inflating: __MACOSX/Datasets/CroppedYale/yaleB10/._yaleB10_P00A+005E+10.pgm  \n",
            "  inflating: __MACOSX/Datasets/CroppedYale/yaleB10/._yaleB10_P00A+070E+45.pgm  \n",
            "  inflating: __MACOSX/Datasets/CroppedYale/yaleB10/._yaleB10_P00A+000E+20.pgm  \n",
            "  inflating: __MACOSX/Datasets/CroppedYale/yaleB10/._yaleB10_P00A-020E-40.pgm  \n",
            "  inflating: __MACOSX/Datasets/CroppedYale/yaleB10/._yaleB10_P00A+050E+00.pgm  \n",
            "  inflating: __MACOSX/Datasets/CroppedYale/yaleB10/._yaleB10_P00A+035E+40.pgm  \n",
            "  inflating: __MACOSX/Datasets/CroppedYale/yaleB10/._yaleB10_P00A-010E+00.pgm  \n",
            "  inflating: __MACOSX/Datasets/CroppedYale/yaleB10/._yaleB10_P00A+110E+40.pgm  \n",
            "  inflating: __MACOSX/Datasets/CroppedYale/yaleB08/._yaleB08_P00A+005E+10.pgm  \n",
            "  inflating: __MACOSX/Datasets/CroppedYale/yaleB08/._yaleB08_P00A+000E+20.pgm  \n",
            "  inflating: __MACOSX/Datasets/CroppedYale/yaleB08/._yaleB08_P00A+070E+45.pgm  \n",
            "  inflating: __MACOSX/Datasets/CroppedYale/yaleB08/._yaleB08_P00A+035E+40.pgm  \n",
            "  inflating: __MACOSX/Datasets/CroppedYale/yaleB08/._yaleB08_P00A+050E+00.pgm  \n",
            "  inflating: __MACOSX/Datasets/CroppedYale/yaleB08/._yaleB08_P00A-020E-40.pgm  \n",
            "  inflating: __MACOSX/Datasets/CroppedYale/yaleB08/._yaleB08_P00A+110E+40.pgm  \n",
            "  inflating: __MACOSX/Datasets/CroppedYale/yaleB08/._yaleB08_P00A-010E+00.pgm  \n",
            "  inflating: __MACOSX/Datasets/CroppedYale/yaleB08/._yaleB08_P00A+000E-35.pgm  \n",
            "  inflating: __MACOSX/Datasets/CroppedYale/yaleB08/._yaleB08_P00A-130E+20.pgm  \n",
            "  inflating: __MACOSX/Datasets/CroppedYale/yaleB08/._yaleB08_P00A+005E-10.pgm  \n",
            "  inflating: __MACOSX/Datasets/CroppedYale/yaleB08/._yaleB08_P00A-015E+20.pgm  \n",
            "  inflating: __MACOSX/Datasets/CroppedYale/yaleB08/._yaleB08_P00A+010E-20.pgm  \n",
            "  inflating: __MACOSX/Datasets/CroppedYale/yaleB08/._yaleB08_P00A+000E-20.pgm  \n",
            "  inflating: __MACOSX/Datasets/CroppedYale/yaleB08/._yaleB08_P00.info  \n",
            "  inflating: __MACOSX/Datasets/CroppedYale/yaleB08/._yaleB08_P00A+120E+00.pgm  \n",
            "  inflating: __MACOSX/Datasets/CroppedYale/yaleB08/._yaleB08_P00A-035E+65.pgm  \n",
            "  inflating: __MACOSX/Datasets/CroppedYale/yaleB08/._yaleB08_P00A-110E+65.pgm  \n",
            "  inflating: __MACOSX/Datasets/CroppedYale/yaleB08/._yaleB08_P00A-095E+00.pgm  \n",
            "  inflating: __MACOSX/Datasets/CroppedYale/yaleB08/._yaleB08_P00A+070E-35.pgm  \n",
            "  inflating: __MACOSX/Datasets/CroppedYale/yaleB08/._yaleB08_P00A+020E+10.pgm  \n",
            "  inflating: __MACOSX/Datasets/CroppedYale/yaleB08/._yaleB08_P00A+060E-20.pgm  \n",
            "  inflating: __MACOSX/Datasets/CroppedYale/yaleB08/._yaleB08_P00A-110E+15.pgm  \n",
            "  inflating: __MACOSX/Datasets/CroppedYale/yaleB08/._yaleB08_P00A-025E+00.pgm  \n",
            "  inflating: __MACOSX/Datasets/CroppedYale/yaleB08/._yaleB08_P00A+085E+20.pgm  \n",
            "  inflating: __MACOSX/Datasets/CroppedYale/yaleB08/._yaleB08_P00A-035E+15.pgm  \n",
            "  inflating: __MACOSX/Datasets/CroppedYale/yaleB08/._yaleB08_P00A+035E-20.pgm  \n",
            "  inflating: __MACOSX/Datasets/CroppedYale/yaleB08/._yaleB08_P00A+000E+45.pgm  \n",
            "  inflating: __MACOSX/Datasets/CroppedYale/yaleB08/._yaleB08_P00A+110E-20.pgm  \n",
            "  inflating: __MACOSX/Datasets/CroppedYale/yaleB08/._yaleB08_P00A+060E+20.pgm  \n",
            "  inflating: __MACOSX/Datasets/CroppedYale/yaleB08/._yaleB08_P00A+020E-10.pgm  \n",
            "  inflating: __MACOSX/Datasets/CroppedYale/yaleB08/._yaleB08_P00A+085E-20.pgm  \n",
            "  inflating: __MACOSX/Datasets/CroppedYale/yaleB08/._yaleB08_P00A-050E-40.pgm  \n",
            "  inflating: __MACOSX/Datasets/CroppedYale/yaleB08/._yaleB08_P00A+000E+90.pgm  \n",
            "  inflating: __MACOSX/Datasets/CroppedYale/yaleB08/._yaleB08_P00A-070E+00.pgm  \n",
            "  inflating: __MACOSX/Datasets/CroppedYale/yaleB08/._yaleB08_P00A+035E+15.pgm  \n",
            "  inflating: __MACOSX/Datasets/CroppedYale/yaleB08/._WS_FTP.LOG  \n",
            "  inflating: __MACOSX/Datasets/CroppedYale/yaleB08/._yaleB08_P00A+110E+15.pgm  \n",
            "  inflating: __MACOSX/Datasets/CroppedYale/yaleB08/._yaleB08_P00A-085E+20.pgm  \n",
            "  inflating: __MACOSX/Datasets/CroppedYale/yaleB08/._yaleB08_P00A+025E+00.pgm  \n",
            "  inflating: __MACOSX/Datasets/CroppedYale/yaleB08/._yaleB08_P00A-020E+10.pgm  \n",
            "  inflating: __MACOSX/Datasets/CroppedYale/yaleB08/._yaleB08_P00A-060E-20.pgm  \n",
            "  inflating: __MACOSX/Datasets/CroppedYale/yaleB08/._yaleB08_P00A+095E+00.pgm  \n",
            "  inflating: __MACOSX/Datasets/CroppedYale/yaleB08/._yaleB08_P00A-070E-35.pgm  \n",
            "  inflating: __MACOSX/Datasets/CroppedYale/yaleB08/._yaleB08_P00A+070E+00.pgm  \n",
            "  inflating: __MACOSX/Datasets/CroppedYale/yaleB08/._yaleB08_P00_Ambient.pgm  \n",
            "  inflating: __MACOSX/Datasets/CroppedYale/yaleB08/._yaleB08_P00A-085E-20.pgm  \n",
            "  inflating: __MACOSX/Datasets/CroppedYale/yaleB08/._yaleB08_P00A+050E-40.pgm  \n",
            "  inflating: __MACOSX/Datasets/CroppedYale/yaleB08/._yaleB08_P00A-060E+20.pgm  \n",
            "  inflating: __MACOSX/Datasets/CroppedYale/yaleB08/._yaleB08_P00A-110E-20.pgm  \n",
            "  inflating: __MACOSX/Datasets/CroppedYale/yaleB08/._yaleB08_P00A-020E-10.pgm  \n",
            "  inflating: __MACOSX/Datasets/CroppedYale/yaleB08/._yaleB08_P00A-035E-20.pgm  \n",
            "  inflating: __MACOSX/Datasets/CroppedYale/yaleB08/._yaleB08_P00A-110E+40.pgm  \n",
            "  inflating: __MACOSX/Datasets/CroppedYale/yaleB08/._yaleB08_P00A+000E+00.pgm  \n",
            "  inflating: __MACOSX/Datasets/CroppedYale/yaleB08/._yaleB08_P00A+010E+00.pgm  \n",
            "  inflating: __MACOSX/Datasets/CroppedYale/yaleB08/._yaleB08_P00A-035E+40.pgm  \n",
            "  inflating: __MACOSX/Datasets/CroppedYale/yaleB08/._yaleB08_P00A-050E+00.pgm  \n",
            "  inflating: __MACOSX/Datasets/CroppedYale/yaleB08/._yaleB08_P00A+020E-40.pgm  \n",
            "  inflating: __MACOSX/Datasets/CroppedYale/yaleB08/._yaleB08_P00A-070E+45.pgm  \n",
            "  inflating: __MACOSX/Datasets/CroppedYale/yaleB08/._yaleB08_P00A-005E+10.pgm  \n",
            "  inflating: __MACOSX/Datasets/CroppedYale/yaleB08/._yaleB08_P00A+110E+65.pgm  \n",
            "  inflating: __MACOSX/Datasets/CroppedYale/yaleB08/._yaleB08_P00A-120E+00.pgm  \n",
            "  inflating: __MACOSX/Datasets/CroppedYale/yaleB08/._yaleB08_P00A+035E+65.pgm  \n",
            "  inflating: __MACOSX/Datasets/CroppedYale/yaleB08/._yaleB08_P00A+015E+20.pgm  \n",
            "  inflating: __MACOSX/Datasets/CroppedYale/yaleB08/._yaleB08_P00A-010E-20.pgm  \n",
            "  inflating: __MACOSX/Datasets/CroppedYale/yaleB08/._yaleB08_P00A+130E+20.pgm  \n",
            "  inflating: __MACOSX/Datasets/CroppedYale/yaleB08/._yaleB08_P00A-005E-10.pgm  \n",
            "  inflating: __MACOSX/Datasets/CroppedYale/yaleB06/._yaleB06_P00A+035E-20.pgm  \n",
            "  inflating: __MACOSX/Datasets/CroppedYale/yaleB06/._yaleB06_P00A+000E+45.pgm  \n",
            "  inflating: __MACOSX/Datasets/CroppedYale/yaleB06/._yaleB06_P00A+110E-20.pgm  \n",
            "  inflating: __MACOSX/Datasets/CroppedYale/yaleB06/._yaleB06_P00A+060E+20.pgm  \n",
            "  inflating: __MACOSX/Datasets/CroppedYale/yaleB06/._yaleB06_P00A+020E-10.pgm  \n",
            "  inflating: __MACOSX/Datasets/CroppedYale/yaleB06/._yaleB06_P00A+085E-20.pgm  \n",
            "  inflating: __MACOSX/Datasets/CroppedYale/yaleB06/._yaleB06_P00A-050E-40.pgm  \n",
            "  inflating: __MACOSX/Datasets/CroppedYale/yaleB06/._yaleB06_P00A+000E+90.pgm  \n",
            "  inflating: __MACOSX/Datasets/CroppedYale/yaleB06/._yaleB06_P00A-070E+00.pgm  \n",
            "  inflating: __MACOSX/Datasets/CroppedYale/yaleB06/._yaleB06_P00A-095E+00.pgm  \n",
            "  inflating: __MACOSX/Datasets/CroppedYale/yaleB06/._yaleB06_P00A+070E-35.pgm  \n",
            "  inflating: __MACOSX/Datasets/CroppedYale/yaleB06/._yaleB06_P00A+020E+10.pgm  \n",
            "  inflating: __MACOSX/Datasets/CroppedYale/yaleB06/._yaleB06_P00A+060E-20.pgm  \n",
            "  inflating: __MACOSX/Datasets/CroppedYale/yaleB06/._yaleB06_P00A-110E+15.pgm  \n",
            "  inflating: __MACOSX/Datasets/CroppedYale/yaleB06/._yaleB06_P00A+085E+20.pgm  \n",
            "  inflating: __MACOSX/Datasets/CroppedYale/yaleB06/._yaleB06_P00A-025E+00.pgm  \n",
            "  inflating: __MACOSX/Datasets/CroppedYale/yaleB06/._yaleB06_P00A-035E+15.pgm  \n",
            "  inflating: __MACOSX/Datasets/CroppedYale/yaleB06/._yaleB06_P00A+000E-35.pgm  \n",
            "  inflating: __MACOSX/Datasets/CroppedYale/yaleB06/._yaleB06_P00A-130E+20.pgm  \n",
            "  inflating: __MACOSX/Datasets/CroppedYale/yaleB06/._yaleB06_P00A+005E-10.pgm  \n",
            "  inflating: __MACOSX/Datasets/CroppedYale/yaleB06/._yaleB06_P00A-015E+20.pgm  \n",
            "  inflating: __MACOSX/Datasets/CroppedYale/yaleB06/._yaleB06_P00A+010E-20.pgm  \n",
            "  inflating: __MACOSX/Datasets/CroppedYale/yaleB06/._yaleB06_P00A+000E-20.pgm  \n",
            "  inflating: __MACOSX/Datasets/CroppedYale/yaleB06/._yaleB06_P00A+120E+00.pgm  \n",
            "  inflating: __MACOSX/Datasets/CroppedYale/yaleB06/._yaleB06_P00A-035E+65.pgm  \n",
            "  inflating: __MACOSX/Datasets/CroppedYale/yaleB06/._yaleB06_P00A-110E+65.pgm  \n",
            "  inflating: __MACOSX/Datasets/CroppedYale/yaleB06/._yaleB06_P00A+005E+10.pgm  \n",
            "  inflating: __MACOSX/Datasets/CroppedYale/yaleB06/._yaleB06_P00A+000E+20.pgm  \n",
            "  inflating: __MACOSX/Datasets/CroppedYale/yaleB06/._yaleB06_P00A+070E+45.pgm  \n",
            "  inflating: __MACOSX/Datasets/CroppedYale/yaleB06/._yaleB06_P00A+035E+40.pgm  \n",
            "  inflating: __MACOSX/Datasets/CroppedYale/yaleB06/._yaleB06_P00A+050E+00.pgm  \n",
            "  inflating: __MACOSX/Datasets/CroppedYale/yaleB06/._yaleB06_P00A-020E-40.pgm  \n",
            "  inflating: __MACOSX/Datasets/CroppedYale/yaleB06/._yaleB06_P00A+110E+40.pgm  \n",
            "  inflating: __MACOSX/Datasets/CroppedYale/yaleB06/._yaleB06_P00A-010E+00.pgm  \n",
            "  inflating: __MACOSX/Datasets/CroppedYale/yaleB06/._yaleB06_P00A+110E+65.pgm  \n",
            "  inflating: __MACOSX/Datasets/CroppedYale/yaleB06/._WS_FTP.LOG  \n",
            "  inflating: __MACOSX/Datasets/CroppedYale/yaleB06/._yaleB06_P00A-120E+00.pgm  \n",
            "  inflating: __MACOSX/Datasets/CroppedYale/yaleB06/._yaleB06_P00A+035E+65.pgm  \n",
            "  inflating: __MACOSX/Datasets/CroppedYale/yaleB06/._yaleB06_P00A+015E+20.pgm  \n",
            "  inflating: __MACOSX/Datasets/CroppedYale/yaleB06/._yaleB06_P00A-010E-20.pgm  \n",
            "  inflating: __MACOSX/Datasets/CroppedYale/yaleB06/._yaleB06_P00A+130E+20.pgm  \n",
            "  inflating: __MACOSX/Datasets/CroppedYale/yaleB06/._yaleB06_P00A-005E-10.pgm  \n",
            "  inflating: __MACOSX/Datasets/CroppedYale/yaleB06/._yaleB06_P00A-110E+40.pgm  \n",
            "  inflating: __MACOSX/Datasets/CroppedYale/yaleB06/._yaleB06_P00A+000E+00.pgm  \n",
            "  inflating: __MACOSX/Datasets/CroppedYale/yaleB06/._yaleB06_P00A+010E+00.pgm  \n",
            "  inflating: __MACOSX/Datasets/CroppedYale/yaleB06/._yaleB06_P00A-035E+40.pgm  \n",
            "  inflating: __MACOSX/Datasets/CroppedYale/yaleB06/._yaleB06_P00A-050E+00.pgm  \n",
            "  inflating: __MACOSX/Datasets/CroppedYale/yaleB06/._yaleB06_P00A+020E-40.pgm  \n",
            "  inflating: __MACOSX/Datasets/CroppedYale/yaleB06/._yaleB06_P00A-070E+45.pgm  \n",
            "  inflating: __MACOSX/Datasets/CroppedYale/yaleB06/._yaleB06_P00A-005E+10.pgm  \n",
            "  inflating: __MACOSX/Datasets/CroppedYale/yaleB06/._yaleB06_P00A+070E+00.pgm  \n",
            "  inflating: __MACOSX/Datasets/CroppedYale/yaleB06/._yaleB06_P00A-085E-20.pgm  \n",
            "  inflating: __MACOSX/Datasets/CroppedYale/yaleB06/._yaleB06_P00A+050E-40.pgm  \n",
            "  inflating: __MACOSX/Datasets/CroppedYale/yaleB06/._yaleB06_P00A-060E+20.pgm  \n",
            "  inflating: __MACOSX/Datasets/CroppedYale/yaleB06/._yaleB06_P00A-110E-20.pgm  \n",
            "  inflating: __MACOSX/Datasets/CroppedYale/yaleB06/._yaleB06_P00A-020E-10.pgm  \n",
            "  inflating: __MACOSX/Datasets/CroppedYale/yaleB06/._yaleB06_P00_Ambient.pgm  \n",
            "  inflating: __MACOSX/Datasets/CroppedYale/yaleB06/._yaleB06_P00A-035E-20.pgm  \n",
            "  inflating: __MACOSX/Datasets/CroppedYale/yaleB06/._yaleB06_P00A+035E+15.pgm  \n",
            "  inflating: __MACOSX/Datasets/CroppedYale/yaleB06/._yaleB06_P00.info  \n",
            "  inflating: __MACOSX/Datasets/CroppedYale/yaleB06/._yaleB06_P00A+110E+15.pgm  \n",
            "  inflating: __MACOSX/Datasets/CroppedYale/yaleB06/._yaleB06_P00A+025E+00.pgm  \n",
            "  inflating: __MACOSX/Datasets/CroppedYale/yaleB06/._yaleB06_P00A-085E+20.pgm  \n",
            "  inflating: __MACOSX/Datasets/CroppedYale/yaleB06/._yaleB06_P00A-020E+10.pgm  \n",
            "  inflating: __MACOSX/Datasets/CroppedYale/yaleB06/._yaleB06_P00A-060E-20.pgm  \n",
            "  inflating: __MACOSX/Datasets/CroppedYale/yaleB06/._yaleB06_P00A+095E+00.pgm  \n",
            "  inflating: __MACOSX/Datasets/CroppedYale/yaleB06/._yaleB06_P00A-070E-35.pgm  \n",
            "  inflating: __MACOSX/Datasets/CroppedYale/yaleB01/._yaleB01_P00A+110E+15.pgm  \n",
            "  inflating: __MACOSX/Datasets/CroppedYale/yaleB01/._yaleB01_P00A+025E+00.pgm  \n",
            "  inflating: __MACOSX/Datasets/CroppedYale/yaleB01/._yaleB01_P00A-085E+20.pgm  \n",
            "  inflating: __MACOSX/Datasets/CroppedYale/yaleB01/._yaleB01_P00A+035E+15.pgm  \n",
            "  inflating: __MACOSX/Datasets/CroppedYale/yaleB01/._yaleB01_P00A+095E+00.pgm  \n",
            "  inflating: __MACOSX/Datasets/CroppedYale/yaleB01/._yaleB01_P00A-070E-35.pgm  \n",
            "  inflating: __MACOSX/Datasets/CroppedYale/yaleB01/._yaleB01_P00A-020E+10.pgm  \n",
            "  inflating: __MACOSX/Datasets/CroppedYale/yaleB01/._yaleB01_P00A-060E-20.pgm  \n",
            "  inflating: __MACOSX/Datasets/CroppedYale/yaleB01/._yaleB01_P00A-085E-20.pgm  \n",
            "  inflating: __MACOSX/Datasets/CroppedYale/yaleB01/._yaleB01_P00A+050E-40.pgm  \n",
            "  inflating: __MACOSX/Datasets/CroppedYale/yaleB01/._yaleB01_P00A+070E+00.pgm  \n",
            "  inflating: __MACOSX/Datasets/CroppedYale/yaleB01/._yaleB01_P00A-035E-20.pgm  \n",
            "  inflating: __MACOSX/Datasets/CroppedYale/yaleB01/._yaleB01_P00A-060E+20.pgm  \n",
            "  inflating: __MACOSX/Datasets/CroppedYale/yaleB01/._yaleB01_P00A-110E-20.pgm  \n",
            "  inflating: __MACOSX/Datasets/CroppedYale/yaleB01/._yaleB01_P00A-020E-10.pgm  \n",
            "  inflating: __MACOSX/Datasets/CroppedYale/yaleB01/._yaleB01_P00A-035E+40.pgm  \n",
            "  inflating: __MACOSX/Datasets/CroppedYale/yaleB01/._yaleB01_P00A-050E+00.pgm  \n",
            "  inflating: __MACOSX/Datasets/CroppedYale/yaleB01/._yaleB01_P00A+020E-40.pgm  \n",
            "  inflating: __MACOSX/Datasets/CroppedYale/yaleB01/._yaleB01_P00A-110E+40.pgm  \n",
            "  inflating: __MACOSX/Datasets/CroppedYale/yaleB01/._yaleB01_P00A+010E+00.pgm  \n",
            "  inflating: __MACOSX/Datasets/CroppedYale/yaleB01/._yaleB01_P00A+000E+00.pgm  \n",
            "  inflating: __MACOSX/Datasets/CroppedYale/yaleB01/._yaleB01_P00A-005E+10.pgm  \n",
            "  inflating: __MACOSX/Datasets/CroppedYale/yaleB01/._yaleB01_P00A-070E+45.pgm  \n",
            "  inflating: __MACOSX/Datasets/CroppedYale/yaleB01/._yaleB01_P00A-120E+00.pgm  \n",
            "  inflating: __MACOSX/Datasets/CroppedYale/yaleB01/._yaleB01_P00A+035E+65.pgm  \n",
            "  inflating: __MACOSX/Datasets/CroppedYale/yaleB01/._yaleB01_P00A+110E+65.pgm  \n",
            "  inflating: __MACOSX/Datasets/CroppedYale/yaleB01/._yaleB01_P00A+130E+20.pgm  \n",
            "  inflating: __MACOSX/Datasets/CroppedYale/yaleB01/._yaleB01_P00A-005E-10.pgm  \n",
            "  inflating: __MACOSX/Datasets/CroppedYale/yaleB01/._yaleB01_P00A+015E+20.pgm  \n",
            "  inflating: __MACOSX/Datasets/CroppedYale/yaleB01/._yaleB01_P00A-010E-20.pgm  \n",
            "  inflating: __MACOSX/Datasets/CroppedYale/yaleB01/._yaleB01_P00A+000E+20.pgm  \n",
            "  inflating: __MACOSX/Datasets/CroppedYale/yaleB01/._WS_FTP.LOG  \n",
            "  inflating: __MACOSX/Datasets/CroppedYale/yaleB01/._yaleB01_P00A+070E+45.pgm  \n",
            "  inflating: __MACOSX/Datasets/CroppedYale/yaleB01/._yaleB01_P00A+005E+10.pgm  \n",
            "  inflating: __MACOSX/Datasets/CroppedYale/yaleB01/._DEADJOE  \n",
            "  inflating: __MACOSX/Datasets/CroppedYale/yaleB01/._yaleB01_P00.info  \n",
            "  inflating: __MACOSX/Datasets/CroppedYale/yaleB01/._yaleB01_P00A+110E+40.pgm  \n",
            "  inflating: __MACOSX/Datasets/CroppedYale/yaleB01/._yaleB01_P00A-010E+00.pgm  \n",
            "  inflating: __MACOSX/Datasets/CroppedYale/yaleB01/._yaleB01_P00A+035E+40.pgm  \n",
            "  inflating: __MACOSX/Datasets/CroppedYale/yaleB01/._yaleB01_P00A+050E+00.pgm  \n",
            "  inflating: __MACOSX/Datasets/CroppedYale/yaleB01/._yaleB01_P00A-020E-40.pgm  \n",
            "  inflating: __MACOSX/Datasets/CroppedYale/yaleB01/._yaleB01_P00A-015E+20.pgm  \n",
            "  inflating: __MACOSX/Datasets/CroppedYale/yaleB01/._yaleB01_P00A+000E-20.pgm  \n",
            "  inflating: __MACOSX/Datasets/CroppedYale/yaleB01/._yaleB01_P00A+010E-20.pgm  \n",
            "  inflating: __MACOSX/Datasets/CroppedYale/yaleB01/._yaleB01_P00A+000E-35.pgm  \n",
            "  inflating: __MACOSX/Datasets/CroppedYale/yaleB01/._yaleB01_P00A-130E+20.pgm  \n",
            "  inflating: __MACOSX/Datasets/CroppedYale/yaleB01/._yaleB01_P00A+005E-10.pgm  \n",
            "  inflating: __MACOSX/Datasets/CroppedYale/yaleB01/._yaleB01_P00A-110E+65.pgm  \n",
            "  inflating: __MACOSX/Datasets/CroppedYale/yaleB01/._yaleB01_P00A+120E+00.pgm  \n",
            "  inflating: __MACOSX/Datasets/CroppedYale/yaleB01/._yaleB01_P00A-035E+65.pgm  \n",
            "  inflating: __MACOSX/Datasets/CroppedYale/yaleB01/._yaleB01_P00A+020E+10.pgm  \n",
            "  inflating: __MACOSX/Datasets/CroppedYale/yaleB01/._yaleB01_P00A+060E-20.pgm  \n",
            "  inflating: __MACOSX/Datasets/CroppedYale/yaleB01/._yaleB01_P00A-095E+00.pgm  \n",
            "  inflating: __MACOSX/Datasets/CroppedYale/yaleB01/._yaleB01_P00A+070E-35.pgm  \n",
            "  inflating: __MACOSX/Datasets/CroppedYale/yaleB01/._yaleB01_P00A-035E+15.pgm  \n",
            "  inflating: __MACOSX/Datasets/CroppedYale/yaleB01/._yaleB01_P00A-110E+15.pgm  \n",
            "  inflating: __MACOSX/Datasets/CroppedYale/yaleB01/._yaleB01_P00A+085E+20.pgm  \n",
            "  inflating: __MACOSX/Datasets/CroppedYale/yaleB01/._yaleB01_P00A-025E+00.pgm  \n",
            "  inflating: __MACOSX/Datasets/CroppedYale/yaleB01/._yaleB01_P00A+000E+45.pgm  \n",
            "  inflating: __MACOSX/Datasets/CroppedYale/yaleB01/._yaleB01_P00A+110E-20.pgm  \n",
            "  inflating: __MACOSX/Datasets/CroppedYale/yaleB01/._yaleB01_P00A+060E+20.pgm  \n",
            "  inflating: __MACOSX/Datasets/CroppedYale/yaleB01/._yaleB01_P00A+020E-10.pgm  \n",
            "  inflating: __MACOSX/Datasets/CroppedYale/yaleB01/._yaleB01_P00_Ambient.pgm  \n",
            "  inflating: __MACOSX/Datasets/CroppedYale/yaleB01/._yaleB01_P00A+035E-20.pgm  \n",
            "  inflating: __MACOSX/Datasets/CroppedYale/yaleB01/._yaleB01_P00A-070E+00.pgm  \n",
            "  inflating: __MACOSX/Datasets/CroppedYale/yaleB01/._yaleB01_P00A+085E-20.pgm  \n",
            "  inflating: __MACOSX/Datasets/CroppedYale/yaleB01/._yaleB01_P00A-050E-40.pgm  \n",
            "  inflating: __MACOSX/Datasets/CroppedYale/yaleB01/._yaleB01_P00A+000E+90.pgm  \n",
            "  inflating: __MACOSX/Datasets/CroppedYale/yaleB07/._yaleB07_P00A+000E-20.pgm  \n",
            "  inflating: __MACOSX/Datasets/CroppedYale/yaleB07/._yaleB07_P00A+010E-20.pgm  \n",
            "  inflating: __MACOSX/Datasets/CroppedYale/yaleB07/._yaleB07_P00A-015E+20.pgm  \n",
            "  inflating: __MACOSX/Datasets/CroppedYale/yaleB07/._yaleB07_P00A+005E-10.pgm  \n",
            "  inflating: __MACOSX/Datasets/CroppedYale/yaleB07/._yaleB07_P00A-130E+20.pgm  \n",
            "  inflating: __MACOSX/Datasets/CroppedYale/yaleB07/._yaleB07_P00A+000E-35.pgm  \n",
            "  inflating: __MACOSX/Datasets/CroppedYale/yaleB07/._yaleB07_P00A-110E+65.pgm  \n",
            "  inflating: __MACOSX/Datasets/CroppedYale/yaleB07/._yaleB07_P00A-035E+65.pgm  \n",
            "  inflating: __MACOSX/Datasets/CroppedYale/yaleB07/._yaleB07_P00A+120E+00.pgm  \n",
            "  inflating: __MACOSX/Datasets/CroppedYale/yaleB07/._yaleB07_P00A+070E+45.pgm  \n",
            "  inflating: __MACOSX/Datasets/CroppedYale/yaleB07/._yaleB07_P00A+000E+20.pgm  \n",
            "  inflating: __MACOSX/Datasets/CroppedYale/yaleB07/._yaleB07_P00A+005E+10.pgm  \n",
            "  inflating: __MACOSX/Datasets/CroppedYale/yaleB07/._yaleB07_P00A-010E+00.pgm  \n",
            "  inflating: __MACOSX/Datasets/CroppedYale/yaleB07/._yaleB07_P00A+110E+40.pgm  \n",
            "  inflating: __MACOSX/Datasets/CroppedYale/yaleB07/._yaleB07_P00A-020E-40.pgm  \n",
            "  inflating: __MACOSX/Datasets/CroppedYale/yaleB07/._yaleB07_P00A+050E+00.pgm  \n",
            "  inflating: __MACOSX/Datasets/CroppedYale/yaleB07/._yaleB07_P00A+035E+40.pgm  \n",
            "  inflating: __MACOSX/Datasets/CroppedYale/yaleB07/._yaleB07_P00A+020E-10.pgm  \n",
            "  inflating: __MACOSX/Datasets/CroppedYale/yaleB07/._yaleB07_P00A+060E+20.pgm  \n",
            "  inflating: __MACOSX/Datasets/CroppedYale/yaleB07/._yaleB07_P00A+110E-20.pgm  \n",
            "  inflating: __MACOSX/Datasets/CroppedYale/yaleB07/._yaleB07_P00A+000E+45.pgm  \n",
            "  inflating: __MACOSX/Datasets/CroppedYale/yaleB07/._yaleB07_P00A+035E-20.pgm  \n",
            "  inflating: __MACOSX/Datasets/CroppedYale/yaleB07/._yaleB07_P00A-070E+00.pgm  \n",
            "  inflating: __MACOSX/Datasets/CroppedYale/yaleB07/._yaleB07_P00A+000E+90.pgm  \n",
            "  inflating: __MACOSX/Datasets/CroppedYale/yaleB07/._yaleB07_P00A-050E-40.pgm  \n",
            "  inflating: __MACOSX/Datasets/CroppedYale/yaleB07/._yaleB07_P00A+085E-20.pgm  \n",
            "  inflating: __MACOSX/Datasets/CroppedYale/yaleB07/._yaleB07_P00A+060E-20.pgm  \n",
            "  inflating: __MACOSX/Datasets/CroppedYale/yaleB07/._yaleB07_P00A+020E+10.pgm  \n",
            "  inflating: __MACOSX/Datasets/CroppedYale/yaleB07/._yaleB07_P00A+070E-35.pgm  \n",
            "  inflating: __MACOSX/Datasets/CroppedYale/yaleB07/._yaleB07_P00A-095E+00.pgm  \n",
            "  inflating: __MACOSX/Datasets/CroppedYale/yaleB07/._yaleB07_P00A-035E+15.pgm  \n",
            "  inflating: __MACOSX/Datasets/CroppedYale/yaleB07/._yaleB07_P00A+085E+20.pgm  \n",
            "  inflating: __MACOSX/Datasets/CroppedYale/yaleB07/._yaleB07_P00A-025E+00.pgm  \n",
            "  inflating: __MACOSX/Datasets/CroppedYale/yaleB07/._yaleB07_P00A-110E+15.pgm  \n",
            "  inflating: __MACOSX/Datasets/CroppedYale/yaleB07/._yaleB07_P00A+050E-40.pgm  \n",
            "  inflating: __MACOSX/Datasets/CroppedYale/yaleB07/._WS_FTP.LOG  \n",
            "  inflating: __MACOSX/Datasets/CroppedYale/yaleB07/._yaleB07_P00A-085E-20.pgm  \n",
            "  inflating: __MACOSX/Datasets/CroppedYale/yaleB07/._yaleB07_P00A+070E+00.pgm  \n",
            "  inflating: __MACOSX/Datasets/CroppedYale/yaleB07/._yaleB07_P00A-035E-20.pgm  \n",
            "  inflating: __MACOSX/Datasets/CroppedYale/yaleB07/._yaleB07_P00A-020E-10.pgm  \n",
            "  inflating: __MACOSX/Datasets/CroppedYale/yaleB07/._yaleB07_P00A-110E-20.pgm  \n",
            "  inflating: __MACOSX/Datasets/CroppedYale/yaleB07/._yaleB07_P00A-060E+20.pgm  \n",
            "  inflating: __MACOSX/Datasets/CroppedYale/yaleB07/._yaleB07_P00A+025E+00.pgm  \n",
            "  inflating: __MACOSX/Datasets/CroppedYale/yaleB07/._yaleB07_P00A-085E+20.pgm  \n",
            "  inflating: __MACOSX/Datasets/CroppedYale/yaleB07/._yaleB07_P00A+110E+15.pgm  \n",
            "  inflating: __MACOSX/Datasets/CroppedYale/yaleB07/._yaleB07_P00A+035E+15.pgm  \n",
            "  inflating: __MACOSX/Datasets/CroppedYale/yaleB07/._yaleB07_P00A-070E-35.pgm  \n",
            "  inflating: __MACOSX/Datasets/CroppedYale/yaleB07/._yaleB07_P00A+095E+00.pgm  \n",
            "  inflating: __MACOSX/Datasets/CroppedYale/yaleB07/._yaleB07_P00A-060E-20.pgm  \n",
            "  inflating: __MACOSX/Datasets/CroppedYale/yaleB07/._yaleB07_P00_Ambient.pgm  \n",
            "  inflating: __MACOSX/Datasets/CroppedYale/yaleB07/._yaleB07_P00A-020E+10.pgm  \n",
            "  inflating: __MACOSX/Datasets/CroppedYale/yaleB07/._yaleB07_P00A+035E+65.pgm  \n",
            "  inflating: __MACOSX/Datasets/CroppedYale/yaleB07/._yaleB07_P00A-120E+00.pgm  \n",
            "  inflating: __MACOSX/Datasets/CroppedYale/yaleB07/._yaleB07_P00A+110E+65.pgm  \n",
            "  inflating: __MACOSX/Datasets/CroppedYale/yaleB07/._yaleB07_P00A-005E-10.pgm  \n",
            "  inflating: __MACOSX/Datasets/CroppedYale/yaleB07/._yaleB07_P00A+130E+20.pgm  \n",
            "  inflating: __MACOSX/Datasets/CroppedYale/yaleB07/._yaleB07_P00A-010E-20.pgm  \n",
            "  inflating: __MACOSX/Datasets/CroppedYale/yaleB07/._yaleB07_P00A+015E+20.pgm  \n",
            "  inflating: __MACOSX/Datasets/CroppedYale/yaleB07/._yaleB07_P00A+020E-40.pgm  \n",
            "  inflating: __MACOSX/Datasets/CroppedYale/yaleB07/._yaleB07_P00A-050E+00.pgm  \n",
            "  inflating: __MACOSX/Datasets/CroppedYale/yaleB07/._yaleB07_P00A-035E+40.pgm  \n",
            "  inflating: __MACOSX/Datasets/CroppedYale/yaleB07/._yaleB07_P00A+010E+00.pgm  \n",
            "  inflating: __MACOSX/Datasets/CroppedYale/yaleB07/._yaleB07_P00A+000E+00.pgm  \n",
            "  inflating: __MACOSX/Datasets/CroppedYale/yaleB07/._yaleB07_P00A-110E+40.pgm  \n",
            "  inflating: __MACOSX/Datasets/CroppedYale/yaleB07/._yaleB07_P00.info  \n",
            "  inflating: __MACOSX/Datasets/CroppedYale/yaleB07/._yaleB07_P00A-005E+10.pgm  \n",
            "  inflating: __MACOSX/Datasets/CroppedYale/yaleB07/._yaleB07_P00A-070E+45.pgm  \n",
            "  inflating: __MACOSX/Datasets/CroppedYale/yaleB09/._yaleB09_P00A+060E-20.pgm  \n",
            "  inflating: __MACOSX/Datasets/CroppedYale/yaleB09/._yaleB09_P00A+020E+10.pgm  \n",
            "  inflating: __MACOSX/Datasets/CroppedYale/yaleB09/._yaleB09_P00A+070E-35.pgm  \n",
            "  inflating: __MACOSX/Datasets/CroppedYale/yaleB09/._yaleB09_P00A-095E+00.pgm  \n",
            "  inflating: __MACOSX/Datasets/CroppedYale/yaleB09/._yaleB09_P00A-035E+15.pgm  \n",
            "  inflating: __MACOSX/Datasets/CroppedYale/yaleB09/._yaleB09_P00A-025E+00.pgm  \n",
            "  inflating: __MACOSX/Datasets/CroppedYale/yaleB09/._yaleB09_P00A+085E+20.pgm  \n",
            "  inflating: __MACOSX/Datasets/CroppedYale/yaleB09/._yaleB09_P00A-110E+15.pgm  \n",
            "  inflating: __MACOSX/Datasets/CroppedYale/yaleB09/._yaleB09_P00A+020E-10.pgm  \n",
            "  inflating: __MACOSX/Datasets/CroppedYale/yaleB09/._yaleB09_P00A+060E+20.pgm  \n",
            "  inflating: __MACOSX/Datasets/CroppedYale/yaleB09/._yaleB09_P00A+110E-20.pgm  \n",
            "  inflating: __MACOSX/Datasets/CroppedYale/yaleB09/._yaleB09_P00A+000E+45.pgm  \n",
            "  inflating: __MACOSX/Datasets/CroppedYale/yaleB09/._yaleB09_P00A+035E-20.pgm  \n",
            "  inflating: __MACOSX/Datasets/CroppedYale/yaleB09/._yaleB09_P00.info  \n",
            "  inflating: __MACOSX/Datasets/CroppedYale/yaleB09/._yaleB09_P00A-070E+00.pgm  \n",
            "  inflating: __MACOSX/Datasets/CroppedYale/yaleB09/._yaleB09_P00A+000E+90.pgm  \n",
            "  inflating: __MACOSX/Datasets/CroppedYale/yaleB09/._yaleB09_P00A-050E-40.pgm  \n",
            "  inflating: __MACOSX/Datasets/CroppedYale/yaleB09/._yaleB09_P00A+085E-20.pgm  \n",
            "  inflating: __MACOSX/Datasets/CroppedYale/yaleB09/._yaleB09_P00A+070E+45.pgm  \n",
            "  inflating: __MACOSX/Datasets/CroppedYale/yaleB09/._yaleB09_P00A+000E+20.pgm  \n",
            "  inflating: __MACOSX/Datasets/CroppedYale/yaleB09/._yaleB09_P00A+005E+10.pgm  \n",
            "  inflating: __MACOSX/Datasets/CroppedYale/yaleB09/._yaleB09_P00A-010E+00.pgm  \n",
            "  inflating: __MACOSX/Datasets/CroppedYale/yaleB09/._yaleB09_P00A+110E+40.pgm  \n",
            "  inflating: __MACOSX/Datasets/CroppedYale/yaleB09/._yaleB09_P00A-020E-40.pgm  \n",
            "  inflating: __MACOSX/Datasets/CroppedYale/yaleB09/._yaleB09_P00A+050E+00.pgm  \n",
            "  inflating: __MACOSX/Datasets/CroppedYale/yaleB09/._yaleB09_P00A+035E+40.pgm  \n",
            "  inflating: __MACOSX/Datasets/CroppedYale/yaleB09/._yaleB09_P00A+000E-20.pgm  \n",
            "  inflating: __MACOSX/Datasets/CroppedYale/yaleB09/._yaleB09_P00A+010E-20.pgm  \n",
            "  inflating: __MACOSX/Datasets/CroppedYale/yaleB09/._yaleB09_P00A-015E+20.pgm  \n",
            "  inflating: __MACOSX/Datasets/CroppedYale/yaleB09/._yaleB09_P00A+005E-10.pgm  \n",
            "  inflating: __MACOSX/Datasets/CroppedYale/yaleB09/._yaleB09_P00A-130E+20.pgm  \n",
            "  inflating: __MACOSX/Datasets/CroppedYale/yaleB09/._yaleB09_P00A+000E-35.pgm  \n",
            "  inflating: __MACOSX/Datasets/CroppedYale/yaleB09/._yaleB09_P00A-110E+65.pgm  \n",
            "  inflating: __MACOSX/Datasets/CroppedYale/yaleB09/._yaleB09_P00A-035E+65.pgm  \n",
            "  inflating: __MACOSX/Datasets/CroppedYale/yaleB09/._yaleB09_P00A+120E+00.pgm  \n",
            "  inflating: __MACOSX/Datasets/CroppedYale/yaleB09/._yaleB09_P00A+020E-40.pgm  \n",
            "  inflating: __MACOSX/Datasets/CroppedYale/yaleB09/._WS_FTP.LOG  \n",
            "  inflating: __MACOSX/Datasets/CroppedYale/yaleB09/._yaleB09_P00A-050E+00.pgm  \n",
            "  inflating: __MACOSX/Datasets/CroppedYale/yaleB09/._yaleB09_P00A-035E+40.pgm  \n",
            "  inflating: __MACOSX/Datasets/CroppedYale/yaleB09/._yaleB09_P00A+010E+00.pgm  \n",
            "  inflating: __MACOSX/Datasets/CroppedYale/yaleB09/._yaleB09_P00A+000E+00.pgm  \n",
            "  inflating: __MACOSX/Datasets/CroppedYale/yaleB09/._yaleB09_P00A-110E+40.pgm  \n",
            "  inflating: __MACOSX/Datasets/CroppedYale/yaleB09/._yaleB09_P00A-005E+10.pgm  \n",
            "  inflating: __MACOSX/Datasets/CroppedYale/yaleB09/._yaleB09_P00A-070E+45.pgm  \n",
            "  inflating: __MACOSX/Datasets/CroppedYale/yaleB09/._yaleB09_P00A+035E+65.pgm  \n",
            "  inflating: __MACOSX/Datasets/CroppedYale/yaleB09/._yaleB09_P00A-120E+00.pgm  \n",
            "  inflating: __MACOSX/Datasets/CroppedYale/yaleB09/._yaleB09_P00A+110E+65.pgm  \n",
            "  inflating: __MACOSX/Datasets/CroppedYale/yaleB09/._yaleB09_P00A-005E-10.pgm  \n",
            "  inflating: __MACOSX/Datasets/CroppedYale/yaleB09/._yaleB09_P00A+130E+20.pgm  \n",
            "  inflating: __MACOSX/Datasets/CroppedYale/yaleB09/._yaleB09_P00A-010E-20.pgm  \n",
            "  inflating: __MACOSX/Datasets/CroppedYale/yaleB09/._yaleB09_P00A+015E+20.pgm  \n",
            "  inflating: __MACOSX/Datasets/CroppedYale/yaleB09/._yaleB09_P00A-085E+20.pgm  \n",
            "  inflating: __MACOSX/Datasets/CroppedYale/yaleB09/._yaleB09_P00A+025E+00.pgm  \n",
            "  inflating: __MACOSX/Datasets/CroppedYale/yaleB09/._yaleB09_P00_Ambient.pgm  \n",
            "  inflating: __MACOSX/Datasets/CroppedYale/yaleB09/._yaleB09_P00A+110E+15.pgm  \n",
            "  inflating: __MACOSX/Datasets/CroppedYale/yaleB09/._yaleB09_P00A+035E+15.pgm  \n",
            "  inflating: __MACOSX/Datasets/CroppedYale/yaleB09/._yaleB09_P00A-070E-35.pgm  \n",
            "  inflating: __MACOSX/Datasets/CroppedYale/yaleB09/._yaleB09_P00A+095E+00.pgm  \n",
            "  inflating: __MACOSX/Datasets/CroppedYale/yaleB09/._yaleB09_P00A-060E-20.pgm  \n",
            "  inflating: __MACOSX/Datasets/CroppedYale/yaleB09/._yaleB09_P00A-020E+10.pgm  \n",
            "  inflating: __MACOSX/Datasets/CroppedYale/yaleB09/._yaleB09_P00A+050E-40.pgm  \n",
            "  inflating: __MACOSX/Datasets/CroppedYale/yaleB09/._yaleB09_P00A-085E-20.pgm  \n",
            "  inflating: __MACOSX/Datasets/CroppedYale/yaleB09/._yaleB09_P00A+070E+00.pgm  \n",
            "  inflating: __MACOSX/Datasets/CroppedYale/yaleB09/._yaleB09_P00A-035E-20.pgm  \n",
            "  inflating: __MACOSX/Datasets/CroppedYale/yaleB09/._yaleB09_P00A-020E-10.pgm  \n",
            "  inflating: __MACOSX/Datasets/CroppedYale/yaleB09/._yaleB09_P00A-110E-20.pgm  \n",
            "  inflating: __MACOSX/Datasets/CroppedYale/yaleB09/._yaleB09_P00A-060E+20.pgm  \n",
            "Datasets  Datasets.zip\t__MACOSX  result-kmeans1.csv  sample_data  test.png\n"
          ],
          "name": "stdout"
        }
      ]
    },
    {
      "cell_type": "code",
      "metadata": {
        "colab": {
          "base_uri": "https://localhost:8080/",
          "height": 504
        },
        "id": "_VQBMwNgcuVR",
        "outputId": "cb6f734e-682f-45c2-bdc8-153faf00481b"
      },
      "source": [
        "import numpy as np\n",
        "from PIL import Image\n",
        "import matplotlib.pyplot as plt\n",
        "\n",
        "# 随便看看其中一张图像 分析一下数据：数据集 10个类 每个类65张图片\n",
        "img = Image.open(\"/content/Datasets/CroppedYale/yaleB01/yaleB01_P00A+000E+00.pgm\")    # 读取文件\n",
        "plt.gray()\n",
        "plt.imshow(img)\n",
        "plt.show()\n",
        "img.save('test.png')\n",
        "print(img.size)   # 输出图片大小  168*192\n",
        "\n",
        "d=np.array(img)\n",
        "print(d.max(),d.min()) # 0~255\n",
        "\n",
        "print(d,d.shape) # (192, 168)\n",
        "d=d.ravel()\n",
        "print(d,d.shape) # (32256,)\n",
        "\n",
        "t=None\n",
        "print(t == None)\n",
        "\n",
        "c=d.copy()\n",
        "\n",
        "t=np.vstack((d,c)) # 合并数组\n",
        "t=np.vstack((t,c))\n",
        "print(t)"
      ],
      "execution_count": null,
      "outputs": [
        {
          "output_type": "display_data",
          "data": {
            "image/png": "[encoded data removed]",
            "text/plain": [
              "<Figure size 432x288 with 1 Axes>"
            ]
          },
          "metadata": {
            "tags": [],
            "needs_background": "light"
          }
        },
        {
          "output_type": "stream",
          "text": [
            "(168, 192)\n",
            "246 9\n",
            "[[80 80 84 ... 63 67 71]\n",
            " [81 79 78 ... 60 61 64]\n",
            " [80 79 82 ... 61 59 62]\n",
            " ...\n",
            " [12 12 19 ... 21 18 14]\n",
            " [12 12 15 ... 14 14 14]\n",
            " [12 12 12 ... 12 12 11]] (192, 168)\n",
            "[80 80 84 ... 12 12 11] (32256,)\n",
            "True\n",
            "[[80 80 84 ... 12 12 11]\n",
            " [80 80 84 ... 12 12 11]\n",
            " [80 80 84 ... 12 12 11]]\n"
          ],
          "name": "stdout"
        }
      ]
    },
    {
      "cell_type": "markdown",
      "metadata": {
        "id": "wLvOuLx-teLS"
      },
      "source": [
        "### Dataset 1"
      ]
    },
    {
      "cell_type": "code",
      "metadata": {
        "id": "p9YdzFOvt1Ff",
        "colab": {
          "base_uri": "https://localhost:8080/"
        },
        "outputId": "35af1301-ea28-467f-eb31-25e373223b11"
      },
      "source": [
        "# 加载数据集1\n",
        "import os\n",
        "path = \"/content/Datasets/CroppedYale\" #文件夹目录\n",
        "files= os.listdir(path) #得到文件夹下的所有文件名称\n",
        "files.sort()\n",
        "data,labels = None,None\n",
        "for file in files: # 遍历文件夹\n",
        "    if os.path.isdir(path+\"/\"+file) and file.find('yale')!=-1: #判断是否是数据集文件夹\n",
        "        #print(file)\n",
        "        imgs=os.listdir(path+\"/\"+file)\n",
        "        for img_str in imgs:\n",
        "            if img_str.find(\".pgm\")!=-1:\n",
        "                img = Image.open(path+\"/\"+file+\"/\"+img_str)\n",
        "                data=np.array(img).ravel() if data is None else np.vstack((data,np.array(img).ravel()))\n",
        "                index=int(file[-1:])-1 if file[-2]=='0' else int(file[-2:])-1 #1-10转化为0-9\n",
        "                labels=np.array(index) if labels is None else np.append(labels,index)\n",
        "        #print(labels)\n",
        "print(data.shape,labels.shape)"
      ],
      "execution_count": null,
      "outputs": [
        {
          "output_type": "stream",
          "text": [
            "(650, 32256) (650,)\n"
          ],
          "name": "stdout"
        }
      ]
    },
    {
      "cell_type": "markdown",
      "metadata": {
        "id": "ItHFfjgHtlPK"
      },
      "source": [
        "### Dataset 2"
      ]
    },
    {
      "cell_type": "code",
      "metadata": {
        "id": "ZOoITp-XEHky"
      },
      "source": [
        ""
      ],
      "execution_count": null,
      "outputs": []
    },
    {
      "cell_type": "markdown",
      "metadata": {
        "id": "F-3XiApgk3sA"
      },
      "source": [
        "\n",
        "\n",
        "---\n",
        "\n",
        "\n",
        "# 2. K-means Clustering"
      ]
    },
    {
      "cell_type": "markdown",
      "metadata": {
        "id": "hxAng4yft0nA"
      },
      "source": [
        "## 2.1 Dataset 1"
      ]
    },
    {
      "cell_type": "markdown",
      "metadata": {
        "id": "WgV8ZaHalV5D"
      },
      "source": [
        "### Train K-means clustering"
      ]
    },
    {
      "cell_type": "code",
      "metadata": {
        "colab": {
          "base_uri": "https://localhost:8080/",
          "height": 290
        },
        "id": "A2QKYRWimnAF",
        "outputId": "64bd9dc1-78d4-4710-93a6-625a9774e222"
      },
      "source": [
        "from time import time\n",
        "from sklearn import metrics\n",
        "from sklearn.cluster import KMeans\n",
        "from sklearn.decomposition import PCA\n",
        "\n",
        "# Elbow Method\n",
        "distortions = []\n",
        "for i in range(1, 21):\n",
        "    km = KMeans(\n",
        "        n_clusters=i, init='random',\n",
        "        n_init=4, max_iter=300,\n",
        "        tol=1e-04, random_state=0\n",
        "    )\n",
        "    km.fit(data)\n",
        "    distortions.append(km.inertia_) # 样本到其最近的聚类中心的距离的平方之和\n",
        "\n",
        "# plot\n",
        "plt.plot(range(1, 21), distortions, marker='o')\n",
        "plt.xlabel('Number of clusters')\n",
        "plt.ylabel('Distortion')\n",
        "plt.show()"
      ],
      "execution_count": null,
      "outputs": [
        {
          "output_type": "display_data",
          "data": {
            "image/png": "[encoded data removed]",
            "text/plain": [
              "<Figure size 432x288 with 1 Axes>"
            ]
          },
          "metadata": {
            "tags": [],
            "needs_background": "light"
          }
        }
      ]
    },
    {
      "cell_type": "code",
      "metadata": {
        "id": "5rI1uVZUuPOi",
        "colab": {
          "base_uri": "https://localhost:8080/"
        },
        "outputId": "69f6dc14-b281-4095-eb4a-740e9c326380"
      },
      "source": [
        "def run_k_means(kmeans, name, data, labels):\n",
        "\n",
        "    t_start = time()\n",
        "    kmeans.fit(data)\n",
        "    time_spent = time() - t_start\n",
        "    results = [name, time_spent, kmeans.inertia_]\n",
        "\n",
        "    clustering_metrics = [\n",
        "        metrics.homogeneity_score, # \thomogeneity score 同质性\n",
        "        metrics.completeness_score, # completeness score 完整性\n",
        "        metrics.v_measure_score, #  V measure 两者的调和平均\n",
        "        metrics.adjusted_rand_score, # adjusted Rand index 兰德调整性系数描述两个数据分布吻合程度 [-1,1] \n",
        "        metrics.adjusted_mutual_info_score, # adjusted mutual information 互信息 [-1,1]\n",
        "    ]\n",
        "    results += [m(labels, kmeans.labels_) for m in clustering_metrics]\n",
        "\n",
        "    results += [\n",
        "        metrics.silhouette_score(data, kmeans.labels_, # 轮廓系数：同类别越近，不同类别越远，分数越高 [-1,1]\n",
        "                                 metric=\"euclidean\", sample_size=300,)\n",
        "    ]\n",
        "\n",
        "    formatter_result = (\"{:9s}\\t{:.3f}s\\t{:.0f}\\t{:.3f}\\t{:.3f}\"\n",
        "                        \"\\t{:.3f}\\t{:.3f}\\t{:.3f}\\t{:.3f}\")\n",
        "    print(formatter_result.format(*results))\n",
        "\n",
        "print(90 * '_')\n",
        "print('init\\t\\ttime\\tinertia\\t\\thomo\\tcompl\\tv-meas\\tARI\\tAMI\\tsilhouette')\n",
        "\n",
        "# kmeans1 = KMeans(init=\"k-means++\", n_clusters=10, n_init=4,random_state=0, precompute_distances=True,max_iter=1000,tol=1e-10,verbose=1)\n",
        "kmeans1 = KMeans(init=\"k-means++\", n_clusters=10,n_init=1,random_state=0)\n",
        "run_k_means(kmeans=kmeans1, name=\"k-means++\", data=data, labels=labels)\n",
        "\n",
        "kmeans2 = KMeans(init=\"random\", n_clusters=10, n_init=1, random_state=0)\n",
        "run_k_means(kmeans=kmeans2, name=\"random\", data=data, labels=labels)\n",
        "\n",
        "pca = PCA(n_components=10).fit(data)\n",
        "kmeans3 = KMeans(init=pca.components_, n_clusters=10, n_init=1,random_state=0)\n",
        "run_k_means(kmeans=kmeans3, name=\"PCA-based\", data=data, labels=labels)\n",
        "print(90 * '_')"
      ],
      "execution_count": null,
      "outputs": [
        {
          "output_type": "stream",
          "text": [
            "__________________________________________________________________________________________\n",
            "init\t\ttime\tinertia\t\thomo\tcompl\tv-meas\tARI\tAMI\tsilhouette\n",
            "k-means++\t1.826s\t23935275726\t0.121\t0.125\t0.123\t0.045\t0.097\t0.185\n",
            "random   \t1.523s\t24043609128\t0.119\t0.122\t0.120\t0.035\t0.094\t0.192\n",
            "PCA-based\t1.929s\t24116183657\t0.119\t0.121\t0.120\t0.037\t0.094\t0.186\n",
            "__________________________________________________________________________________________\n"
          ],
          "name": "stdout"
        }
      ]
    },
    {
      "cell_type": "markdown",
      "metadata": {
        "id": "VLaxMNFYlxUR"
      },
      "source": [
        "### First evaluation"
      ]
    },
    {
      "cell_type": "code",
      "metadata": {
        "id": "hiOAurVPluWC",
        "colab": {
          "base_uri": "https://localhost:8080/"
        },
        "outputId": "cb9a6f23-67c1-4f2c-9de2-5ed4c3935e86"
      },
      "source": [
        "# 评估策略上个单元格中已给出\n",
        "import pandas as pd\n",
        "\n",
        "d={} # d字典描述：key：真实label数值  value：该label类中所有图像预测的label值列表\n",
        "for i in range(len(labels)):\n",
        "    d[labels[i]]=[kmeans1.labels_[i]] if labels[i] not in d.keys() else d[labels[i]]+[kmeans1.labels_[i]]\n",
        "keys=sorted(list(d.keys())) # 得到d keys列表的复制\n",
        "nums,acc,pre=[],[],[]\n",
        "\n",
        "for key in keys:\n",
        "    # d[str(key)]字典描述：key：预测的label值 value：该值出现的次数\n",
        "    # 当key为\"num\"表示总数量，为ratio表示正确比例 sort表示排序结果\n",
        "    d[str(key)]={} \n",
        "    for t in d[key]:\n",
        "        d[str(key)][t] = d[str(key)].get(t, 0) + 1\n",
        "    s = sorted(d[str(key)].items(), key=lambda x: x[1], reverse=True)\n",
        "    d[str(key)]['sort']=s\n",
        "    d[str(key)]['ratio']=s[0][1]/len(d[key])\n",
        "    d[str(key)]['num']=len(d[key])\n",
        "\n",
        "    nums+=[d[str(key)]['num']]\n",
        "    acc+=[d[str(key)]['ratio']]\n",
        "    pre+=[d[str(key)]['sort']]\n",
        "\n",
        "    print(key,\":\",s)\n",
        "    print(d[str(key)])\n",
        "\n",
        "sub = pd.DataFrame(columns=['Labels', 'Count','Accuracy','Predictions'])\n",
        "sub['Labels'],sub['Count'],sub['Accuracy'],sub['Predictions'] = keys,nums,acc,pre\n",
        "sub.to_csv('result-kmeans1.csv', index=None)\n",
        "\n",
        "print(kmeans1.labels_)\n",
        "print(len(labels))"
      ],
      "execution_count": null,
      "outputs": [
        {
          "output_type": "stream",
          "text": [
            "0 : [(6, 15), (1, 8), (5, 8), (4, 7), (8, 7), (2, 7), (9, 7), (7, 3), (0, 3)]\n",
            "{6: 15, 1: 8, 4: 7, 5: 8, 8: 7, 7: 3, 2: 7, 9: 7, 0: 3, 'sort': [(6, 15), (1, 8), (5, 8), (4, 7), (8, 7), (2, 7), (9, 7), (7, 3), (0, 3)], 'ratio': 0.23076923076923078, 'num': 65}\n",
            "1 : [(3, 20), (5, 12), (9, 7), (8, 6), (4, 6), (2, 6), (1, 4), (0, 2), (7, 2)]\n",
            "{3: 20, 8: 6, 5: 12, 4: 6, 9: 7, 0: 2, 1: 4, 7: 2, 2: 6, 'sort': [(3, 20), (5, 12), (9, 7), (8, 6), (4, 6), (2, 6), (1, 4), (0, 2), (7, 2)], 'ratio': 0.3076923076923077, 'num': 65}\n",
            "2 : [(6, 18), (5, 10), (2, 8), (9, 7), (8, 7), (1, 5), (4, 4), (7, 3), (0, 3)]\n",
            "{4: 4, 9: 7, 8: 7, 5: 10, 2: 8, 6: 18, 1: 5, 7: 3, 0: 3, 'sort': [(6, 18), (5, 10), (2, 8), (9, 7), (8, 7), (1, 5), (4, 4), (7, 3), (0, 3)], 'ratio': 0.27692307692307694, 'num': 65}\n",
            "3 : [(1, 21), (2, 11), (4, 10), (5, 8), (9, 5), (8, 4), (0, 3), (7, 3)]\n",
            "{4: 10, 1: 21, 0: 3, 7: 3, 2: 11, 5: 8, 8: 4, 9: 5, 'sort': [(1, 21), (2, 11), (4, 10), (5, 8), (9, 5), (8, 4), (0, 3), (7, 3)], 'ratio': 0.3230769230769231, 'num': 65}\n",
            "4 : [(3, 21), (5, 15), (4, 7), (2, 6), (9, 6), (8, 5), (1, 3), (0, 2)]\n",
            "{0: 2, 2: 6, 3: 21, 4: 7, 5: 15, 9: 6, 8: 5, 1: 3, 'sort': [(3, 21), (5, 15), (4, 7), (2, 6), (9, 6), (8, 5), (1, 3), (0, 2)], 'ratio': 0.3230769230769231, 'num': 65}\n",
            "5 : [(8, 10), (9, 9), (6, 9), (1, 8), (4, 7), (2, 7), (5, 5), (3, 5), (7, 3), (0, 2)]\n",
            "{9: 9, 4: 7, 6: 9, 5: 5, 1: 8, 8: 10, 7: 3, 2: 7, 3: 5, 0: 2, 'sort': [(8, 10), (9, 9), (6, 9), (1, 8), (4, 7), (2, 7), (5, 5), (3, 5), (7, 3), (0, 2)], 'ratio': 0.15384615384615385, 'num': 65}\n",
            "6 : [(1, 22), (4, 11), (2, 11), (5, 6), (9, 5), (8, 4), (7, 3), (0, 3)]\n",
            "{5: 6, 4: 11, 2: 11, 1: 22, 8: 4, 9: 5, 7: 3, 0: 3, 'sort': [(1, 22), (4, 11), (2, 11), (5, 6), (9, 5), (8, 4), (7, 3), (0, 3)], 'ratio': 0.3384615384615385, 'num': 65}\n",
            "7 : [(1, 21), (5, 11), (2, 9), (4, 8), (7, 7), (0, 5), (9, 2), (8, 2)]\n",
            "{5: 11, 1: 21, 4: 8, 7: 7, 2: 9, 9: 2, 0: 5, 8: 2, 'sort': [(1, 21), (5, 11), (2, 9), (4, 8), (7, 7), (0, 5), (9, 2), (8, 2)], 'ratio': 0.3230769230769231, 'num': 65}\n",
            "8 : [(1, 20), (7, 9), (2, 8), (5, 8), (4, 6), (8, 6), (0, 5), (9, 3)]\n",
            "{0: 5, 7: 9, 1: 20, 2: 8, 5: 8, 4: 6, 8: 6, 9: 3, 'sort': [(1, 20), (7, 9), (2, 8), (5, 8), (4, 6), (8, 6), (0, 5), (9, 3)], 'ratio': 0.3076923076923077, 'num': 65}\n",
            "9 : [(6, 19), (8, 12), (9, 11), (5, 7), (4, 5), (2, 4), (7, 3), (1, 2), (0, 2)]\n",
            "{1: 2, 9: 11, 5: 7, 6: 19, 4: 5, 8: 12, 2: 4, 7: 3, 0: 2, 'sort': [(6, 19), (8, 12), (9, 11), (5, 7), (4, 5), (2, 4), (7, 3), (1, 2), (0, 2)], 'ratio': 0.2923076923076923, 'num': 65}\n",
            "[6 1 4 5 8 6 7 2 1 4 6 2 5 6 5 1 2 1 1 6 2 9 7 9 6 7 6 8 1 5 6 5 9 4 4 5 8\n",
            " 4 6 4 2 6 9 9 6 6 8 1 2 1 8 2 4 5 5 6 8 6 0 8 9 0 6 9 0 3 8 5 4 9 0 8 3 5\n",
            " 3 5 9 1 1 3 7 9 5 2 3 1 3 3 2 3 5 5 4 2 4 3 2 7 0 5 3 8 5 3 5 3 5 8 3 3 2\n",
            " 4 4 9 8 5 3 3 8 9 3 1 2 4 9 9 3 3 5 3 4 9 8 5 9 9 9 5 5 2 8 6 5 1 2 6 9 6\n",
            " 2 6 7 6 6 5 5 6 6 6 8 6 5 2 6 4 4 8 8 6 9 0 4 5 6 1 7 1 8 1 0 6 5 2 7 2 0\n",
            " 1 2 9 6 2 8 6 6 5 6 4 4 1 0 7 2 2 1 1 5 1 1 1 4 1 5 2 1 2 1 1 5 1 7 1 2 5\n",
            " 5 5 8 4 8 4 9 1 4 9 1 2 1 4 0 4 1 7 2 0 9 2 1 1 9 1 5 8 1 1 9 4 8 2 5 2 2\n",
            " 4 0 2 3 4 4 5 4 3 5 2 9 8 3 3 3 3 3 8 0 3 3 3 2 3 4 8 5 1 3 4 3 8 9 3 3 3\n",
            " 5 5 5 5 9 1 3 3 3 9 1 2 5 2 4 3 8 9 5 5 5 9 5 2 3 5 5 4 5 9 4 6 4 5 1 9 6\n",
            " 9 8 7 5 2 2 8 9 9 8 2 6 1 4 2 1 4 5 6 6 1 6 3 7 1 1 8 0 9 9 4 9 8 5 9 8 3\n",
            " 1 2 1 8 6 3 5 8 2 0 8 2 6 3 4 6 3 4 8 7 5 5 4 2 1 2 1 2 1 2 1 1 4 5 8 9 4\n",
            " 1 2 2 1 2 2 1 4 1 9 1 9 7 4 8 7 2 1 5 1 1 1 1 4 9 5 1 4 9 4 4 8 1 8 7 4 4\n",
            " 0 0 5 2 1 1 2 1 1 0 1 5 1 1 4 7 1 2 1 7 5 4 2 1 1 1 5 4 5 7 4 9 0 5 1 1 2\n",
            " 7 0 5 8 9 2 2 4 7 2 5 1 1 2 5 0 5 8 0 1 2 1 1 1 7 1 0 4 1 1 4 5 4 5 7 2 1\n",
            " 1 1 0 7 1 1 7 2 2 5 4 0 7 7 4 1 0 1 5 8 7 1 1 5 0 1 5 8 2 4 7 5 1 1 8 1 1\n",
            " 8 9 1 1 1 1 1 9 1 2 1 5 7 2 9 1 7 4 4 2 8 5 4 7 2 5 2 8 1 0 1 9 5 6 4 6 6\n",
            " 8 5 6 2 2 9 6 6 7 9 5 6 6 5 8 5 8 6 7 8 8 9 6 0 5 2 9 4 7 6 8 6 6 6 8 0 6\n",
            " 9 8 6 8 8 4 9 9 6 4 6 2 8 9 8 1 9 5 9 6 4]\n",
            "650\n"
          ],
          "name": "stdout"
        }
      ]
    },
    {
      "cell_type": "markdown",
      "metadata": {
        "id": "XrItLpXPlk15"
      },
      "source": [
        "### Second evaluation"
      ]
    },
    {
      "cell_type": "code",
      "metadata": {
        "id": "yGE6IWzxmHA1"
      },
      "source": [
        ""
      ],
      "execution_count": null,
      "outputs": []
    },
    {
      "cell_type": "markdown",
      "metadata": {
        "id": "o-dhDS0cuYGI"
      },
      "source": [
        "## 2.2 Dataset 2"
      ]
    },
    {
      "cell_type": "markdown",
      "metadata": {
        "id": "Shyegx-9ufUI"
      },
      "source": [
        "### Train K-means clustering"
      ]
    },
    {
      "cell_type": "code",
      "metadata": {
        "id": "vBjbFw8Y4XML"
      },
      "source": [
        ""
      ],
      "execution_count": null,
      "outputs": []
    },
    {
      "cell_type": "markdown",
      "metadata": {
        "id": "y-iD8b9bulEZ"
      },
      "source": [
        "### First evaluation"
      ]
    },
    {
      "cell_type": "code",
      "metadata": {
        "id": "YFm649x0hcyH"
      },
      "source": [
        ""
      ],
      "execution_count": null,
      "outputs": []
    },
    {
      "cell_type": "markdown",
      "metadata": {
        "id": "InkaP1GTupgP"
      },
      "source": [
        "### Second evaluation "
      ]
    },
    {
      "cell_type": "code",
      "metadata": {
        "id": "XVMYx4dXF2w8"
      },
      "source": [
        ""
      ],
      "execution_count": null,
      "outputs": []
    },
    {
      "cell_type": "markdown",
      "metadata": {
        "id": "BVB6M5-tmVZ6"
      },
      "source": [
        "\n",
        "\n",
        "---\n",
        "\n",
        "\n",
        "# 3. Hierachical Clustering"
      ]
    },
    {
      "cell_type": "markdown",
      "metadata": {
        "id": "4e1rXjiou6Xg"
      },
      "source": [
        "## 3.1 Dataset 1"
      ]
    },
    {
      "cell_type": "markdown",
      "metadata": {
        "id": "lyI1Q-dJmj2D"
      },
      "source": [
        "### Train Hierarchical clustering "
      ]
    },
    {
      "cell_type": "code",
      "metadata": {
        "id": "yzSTBU2AmZub"
      },
      "source": [
        ""
      ],
      "execution_count": null,
      "outputs": []
    },
    {
      "cell_type": "markdown",
      "metadata": {
        "id": "u06Odf2RvATE"
      },
      "source": [
        "### First evaluation "
      ]
    },
    {
      "cell_type": "code",
      "metadata": {
        "id": "1SXvtt22vD_j"
      },
      "source": [
        ""
      ],
      "execution_count": null,
      "outputs": []
    },
    {
      "cell_type": "markdown",
      "metadata": {
        "id": "NP2DhEZQvE5U"
      },
      "source": [
        "### Second evaluation "
      ]
    },
    {
      "cell_type": "code",
      "metadata": {
        "id": "o-VNWQFsvIyL"
      },
      "source": [
        ""
      ],
      "execution_count": null,
      "outputs": []
    },
    {
      "cell_type": "markdown",
      "metadata": {
        "id": "VltnIWtBmqID"
      },
      "source": [
        "## 3.2 Dataset 2"
      ]
    },
    {
      "cell_type": "markdown",
      "metadata": {
        "id": "fcVNl0dOvUsq"
      },
      "source": [
        "### Train Hierarchical clustering "
      ]
    },
    {
      "cell_type": "code",
      "metadata": {
        "id": "tCcBxQaGvYgO"
      },
      "source": [
        ""
      ],
      "execution_count": null,
      "outputs": []
    },
    {
      "cell_type": "markdown",
      "metadata": {
        "id": "8b6JvPUfm4Q-"
      },
      "source": [
        "### First evaluation"
      ]
    },
    {
      "cell_type": "code",
      "metadata": {
        "id": "IPvIi1rC-Afg"
      },
      "source": [
        ""
      ],
      "execution_count": null,
      "outputs": []
    },
    {
      "cell_type": "markdown",
      "metadata": {
        "id": "jxhZGBnSm98d"
      },
      "source": [
        "### Second evalaution "
      ]
    },
    {
      "cell_type": "code",
      "metadata": {
        "id": "37S5tqcz-0Js"
      },
      "source": [
        ""
      ],
      "execution_count": null,
      "outputs": []
    },
    {
      "cell_type": "markdown",
      "metadata": {
        "id": "do-r947ZnGTQ"
      },
      "source": [
        "\n",
        "\n",
        "---\n",
        "\n",
        "\n",
        "# 4. DBSCAN Clustering"
      ]
    },
    {
      "cell_type": "markdown",
      "metadata": {
        "id": "QxvlRqgovlC7"
      },
      "source": [
        "## 4.1 Dataset 1"
      ]
    },
    {
      "cell_type": "markdown",
      "metadata": {
        "id": "2rJ2wmllvrmR"
      },
      "source": [
        "### Train DBSCAN clustering "
      ]
    },
    {
      "cell_type": "code",
      "metadata": {
        "id": "y3zDjJVX3U-a"
      },
      "source": [
        ""
      ],
      "execution_count": null,
      "outputs": []
    },
    {
      "cell_type": "markdown",
      "metadata": {
        "id": "KxeyDFICvw9b"
      },
      "source": [
        "### First evaluation"
      ]
    },
    {
      "cell_type": "code",
      "metadata": {
        "id": "Qtfuz5523XWr"
      },
      "source": [
        ""
      ],
      "execution_count": null,
      "outputs": []
    },
    {
      "cell_type": "markdown",
      "metadata": {
        "id": "Bjhyvv9Qv0rP"
      },
      "source": [
        "### Second evaluation "
      ]
    },
    {
      "cell_type": "code",
      "metadata": {
        "id": "ON1_RFmv3bj3"
      },
      "source": [
        ""
      ],
      "execution_count": null,
      "outputs": []
    },
    {
      "cell_type": "markdown",
      "metadata": {
        "id": "t-POjSqnv7gB"
      },
      "source": [
        "## 4.2 Dataset 2"
      ]
    },
    {
      "cell_type": "markdown",
      "metadata": {
        "id": "wKK7dFVhv-UX"
      },
      "source": [
        "### Train DBSCAN clustering "
      ]
    },
    {
      "cell_type": "code",
      "metadata": {
        "id": "9R8e0huUuu7L"
      },
      "source": [
        ""
      ],
      "execution_count": null,
      "outputs": []
    },
    {
      "cell_type": "markdown",
      "metadata": {
        "id": "OrKT0eKewCgm"
      },
      "source": [
        "### First evaluation "
      ]
    },
    {
      "cell_type": "code",
      "metadata": {
        "id": "fxy2Rsl6wBCM"
      },
      "source": [
        ""
      ],
      "execution_count": null,
      "outputs": []
    },
    {
      "cell_type": "markdown",
      "metadata": {
        "id": "1joILa4LwFbs"
      },
      "source": [
        "### Second evaluation "
      ]
    },
    {
      "cell_type": "code",
      "metadata": {
        "id": "n_QJ74S7wH7b"
      },
      "source": [
        ""
      ],
      "execution_count": null,
      "outputs": []
    }
  ]
}